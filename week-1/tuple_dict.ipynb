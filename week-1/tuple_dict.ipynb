{
  "nbformat": 4,
  "nbformat_minor": 0,
  "metadata": {
    "colab": {
      "provenance": [],
      "authorship_tag": "ABX9TyNWbScqm3nLfUkeDGczl4ht",
      "include_colab_link": true
    },
    "kernelspec": {
      "name": "python3",
      "display_name": "Python 3"
    },
    "language_info": {
      "name": "python"
    }
  },
  "cells": [
    {
      "cell_type": "markdown",
      "metadata": {
        "id": "view-in-github",
        "colab_type": "text"
      },
      "source": [
        "<a href=\"https://colab.research.google.com/github/Dhairyasummi/python/blob/main/Untitled2.ipynb\" target=\"_parent\"><img src=\"https://colab.research.google.com/assets/colab-badge.svg\" alt=\"Open In Colab\"/></a>"
      ]
    },
    {
      "cell_type": "code",
      "execution_count": 2,
      "metadata": {
        "colab": {
          "base_uri": "https://localhost:8080/"
        },
        "id": "i0TaVWEssHvP",
        "outputId": "44a3e1ba-47a3-46b0-fbb3-5008c6dfb770"
      },
      "outputs": [
        {
          "output_type": "stream",
          "name": "stdout",
          "text": [
            "{}\n"
          ]
        }
      ],
      "source": [
        "#Sets are an unordered collection of uniqe elements we can construct them by using the set() function\n",
        "# they cannot have duplicates\n",
        "# they are mutable just like lists\n",
        "# you can create the non-empty set wuth curly braces by specifying elements seprated by commas\n",
        "\n",
        "a = {}   #empty set\n",
        "print(a)"
      ]
    },
    {
      "cell_type": "code",
      "source": [
        "#indexing is also not possible in set\n",
        "a = {1,2,3,4,5,4,6}\n",
        "print(a)                      #it gives only unique values\n",
        "print(a[1])                   # not possible"
      ],
      "metadata": {
        "colab": {
          "base_uri": "https://localhost:8080/"
        },
        "id": "QF143wsKvH8E",
        "outputId": "542e42e3-3723-40cb-f013-aa271a17c11c"
      },
      "execution_count": 3,
      "outputs": [
        {
          "output_type": "stream",
          "name": "stdout",
          "text": [
            "{1, 2, 3, 4, 5, 6}\n"
          ]
        }
      ]
    },
    {
      "cell_type": "code",
      "source": [
        "#add - to add a single element we can use add it adds in last\n",
        "a = {1,2,3,4}\n",
        "a.add('dhairya')\n",
        "print(a)"
      ],
      "metadata": {
        "colab": {
          "base_uri": "https://localhost:8080/"
        },
        "id": "3xxaV8oLvZk-",
        "outputId": "3a510773-1156-42ad-fb50-2835bc1ae35e"
      },
      "execution_count": 4,
      "outputs": [
        {
          "output_type": "stream",
          "name": "stdout",
          "text": [
            "{1, 2, 3, 4, 'dhairya'}\n"
          ]
        }
      ]
    },
    {
      "cell_type": "code",
      "source": [
        "#remove - use remove an item / element from the set and it takes element as the argument\n",
        "a = {1,2,3,4}\n",
        "a.remove(3)\n",
        "print(a)"
      ],
      "metadata": {
        "colab": {
          "base_uri": "https://localhost:8080/"
        },
        "id": "_DuU2ljnv9iN",
        "outputId": "1257457b-a5b7-4d29-88a9-0e1761ddc3f7"
      },
      "execution_count": 5,
      "outputs": [
        {
          "output_type": "stream",
          "name": "stdout",
          "text": [
            "{1, 2, 4}\n"
          ]
        }
      ]
    },
    {
      "cell_type": "code",
      "source": [
        "a = {1,2,3,'dhairya','Dhairya'}\n",
        "print(a)"
      ],
      "metadata": {
        "colab": {
          "base_uri": "https://localhost:8080/"
        },
        "id": "tDbZWLX4wMNK",
        "outputId": "459ac431-b0dc-4791-9ac2-7e629063b122"
      },
      "execution_count": 7,
      "outputs": [
        {
          "output_type": "stream",
          "name": "stdout",
          "text": [
            "{1, 2, 3, 'dhairya', 'Dhairya'}\n"
          ]
        }
      ]
    },
    {
      "cell_type": "markdown",
      "source": [
        "Dictionary"
      ],
      "metadata": {
        "id": "WkHwIZOmx_xe"
      }
    },
    {
      "cell_type": "code",
      "source": [
        "# dictionary can be understood as the hashing in other languages\n",
        "# they are the collection of objects that are stored by a key and store in key:vale pairs\n",
        "# we can construct the dictionary by\n",
        "\n",
        "a = {'key1':'value1','key2':'value2'}\n",
        "type(a)\n"
      ],
      "metadata": {
        "colab": {
          "base_uri": "https://localhost:8080/"
        },
        "id": "rKgYix8vyBKC",
        "outputId": "7feab319-f73a-47de-fbcc-74f0d07b32e8"
      },
      "execution_count": 10,
      "outputs": [
        {
          "output_type": "execute_result",
          "data": {
            "text/plain": [
              "dict"
            ]
          },
          "metadata": {},
          "execution_count": 10
        }
      ]
    },
    {
      "cell_type": "code",
      "source": [
        "print(a.keys())\n",
        "print(a.values())"
      ],
      "metadata": {
        "colab": {
          "base_uri": "https://localhost:8080/"
        },
        "id": "14wT9P1yyqVh",
        "outputId": "b51270d2-faf8-4062-a5a0-5e42f3f85566"
      },
      "execution_count": 12,
      "outputs": [
        {
          "output_type": "stream",
          "name": "stdout",
          "text": [
            "dict_keys(['key1', 'key2'])\n",
            "dict_values(['value1', 'value2'])\n"
          ]
        }
      ]
    },
    {
      "cell_type": "code",
      "source": [
        "a = {'Name':['dhairya','summi'] , 'age':['19','20']}\n",
        "print(a.values())"
      ],
      "metadata": {
        "colab": {
          "base_uri": "https://localhost:8080/"
        },
        "id": "Zi4ELQKszBeT",
        "outputId": "afd8b27f-f57f-4948-dfa2-7aadf3825795"
      },
      "execution_count": 13,
      "outputs": [
        {
          "output_type": "stream",
          "name": "stdout",
          "text": [
            "dict_values([['dhairya', 'summi'], ['19', '20']])\n"
          ]
        }
      ]
    },
    {
      "cell_type": "code",
      "source": [
        "# indexing is not direclty possible in discitonary however we can use it by using keys\n",
        "# item metord is used to return the value of key and pairs\n",
        "print(a.items())"
      ],
      "metadata": {
        "colab": {
          "base_uri": "https://localhost:8080/"
        },
        "id": "sgL4x-LZzZHb",
        "outputId": "8524b5dd-b474-43fe-ab89-4c790ba0bc59"
      },
      "execution_count": 14,
      "outputs": [
        {
          "output_type": "stream",
          "name": "stdout",
          "text": [
            "dict_items([('Name', ['dhairya', 'summi']), ('age', ['19', '20'])])\n"
          ]
        }
      ]
    },
    {
      "cell_type": "code",
      "source": [
        "a['name'] = 'luffy'  # value is added to it\n",
        "print(a)"
      ],
      "metadata": {
        "colab": {
          "base_uri": "https://localhost:8080/"
        },
        "id": "xF7E0GKh0P_B",
        "outputId": "24409022-ca80-4dca-93f3-35fa1d8bd4a7"
      },
      "execution_count": 15,
      "outputs": [
        {
          "output_type": "stream",
          "name": "stdout",
          "text": [
            "{'Name': ['dhairya', 'summi'], 'age': ['19', '20'], 'name': 'luffy'}\n"
          ]
        }
      ]
    },
    {
      "cell_type": "code",
      "source": [
        "# dict - we  can create dictonary objects from sequence of the items which are pairs this is done using the dict() methord , it takes the list of paired element as the argument\n",
        "\n",
        "country_list =\n",
        "city_list =\n",
        "print(dict(zip(county_list,city_list)))"
      ],
      "metadata": {
        "id": "wy2GTjgr1HbZ"
      },
      "execution_count": null,
      "outputs": []
    },
    {
      "cell_type": "code",
      "source": [
        "# pop - they are used to remove the element from the dictionary havnig given key\n",
        "\n",
        "a = {'name':'mohan','gender':'male'}\n",
        "print(a.pop('name'))\n",
        "print(a)"
      ],
      "metadata": {
        "colab": {
          "base_uri": "https://localhost:8080/"
        },
        "id": "KyB8X0Sp1hFG",
        "outputId": "733afef1-001c-493c-e435-9f190b587a01"
      },
      "execution_count": 17,
      "outputs": [
        {
          "output_type": "stream",
          "name": "stdout",
          "text": [
            "mohan\n",
            "{'gender': 'male'}\n"
          ]
        }
      ]
    }
  ]
}
