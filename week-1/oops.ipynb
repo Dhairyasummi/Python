{
  "nbformat": 4,
  "nbformat_minor": 0,
  "metadata": {
    "colab": {
      "provenance": [],
      "authorship_tag": "ABX9TyORy0n19b2/wBijDlJ1bk16",
      "include_colab_link": true
    },
    "kernelspec": {
      "name": "python3",
      "display_name": "Python 3"
    },
    "language_info": {
      "name": "python"
    }
  },
  "cells": [
    {
      "cell_type": "markdown",
      "metadata": {
        "id": "view-in-github",
        "colab_type": "text"
      },
      "source": [
        "<a href=\"https://colab.research.google.com/github/Dhairyasummi/python/blob/main/oops.ipynb\" target=\"_parent\"><img src=\"https://colab.research.google.com/assets/colab-badge.svg\" alt=\"Open In Colab\"/></a>"
      ]
    },
    {
      "cell_type": "markdown",
      "source": [
        "List Comprehension\n"
      ],
      "metadata": {
        "id": "2QjaWIzZtfvx"
      }
    },
    {
      "cell_type": "code",
      "execution_count": null,
      "metadata": {
        "colab": {
          "base_uri": "https://localhost:8080/"
        },
        "id": "hv0j5lSss_nX",
        "outputId": "0a6c0b2a-4b8a-4d66-942d-d65db01132b1"
      },
      "outputs": [
        {
          "output_type": "stream",
          "name": "stdout",
          "text": [
            "[4, 16, 36, 64, 100, 144, 196, 256, 324, 400, 484, 576, 676, 784, 900, 1024, 1156, 1296, 1444, 1600, 1764, 1936, 2116, 2304, 2500, 2704, 2916, 3136, 3364, 3600, 3844, 4096, 4356, 4624, 4900, 5184, 5476, 5776, 6084, 6400, 6724, 7056, 7396, 7744, 8100, 8464, 8836, 9216, 9604]\n"
          ]
        }
      ],
      "source": [
        "b = [i**2 for i in range(1,100) if i%2 == 0]\n",
        "print(b)"
      ]
    },
    {
      "cell_type": "code",
      "source": [
        "a = [1,2,3,4,5,6,7,8,9]\n",
        "b = [i**2 if i % 2 == 0 else i**3 for i in a]\n",
        "print(b)\n"
      ],
      "metadata": {
        "colab": {
          "base_uri": "https://localhost:8080/"
        },
        "id": "lj1xMdVNt8Mk",
        "outputId": "13b5befd-8860-4b08-9e47-7dee58e8763c"
      },
      "execution_count": null,
      "outputs": [
        {
          "output_type": "stream",
          "name": "stdout",
          "text": [
            "[1, 4, 27, 16, 125, 36, 343, 64, 729]\n"
          ]
        }
      ]
    },
    {
      "cell_type": "code",
      "source": [
        "quote_1 = \"My name is Dhairya Summi. I am billionare\"\n",
        "b = {i[0] for i in quote_1.split()}\n",
        "print(b)"
      ],
      "metadata": {
        "colab": {
          "base_uri": "https://localhost:8080/"
        },
        "id": "PPPWmhhcv3GL",
        "outputId": "4f11a699-1350-4f4e-9763-620ab0ffacfe"
      },
      "execution_count": null,
      "outputs": [
        {
          "output_type": "stream",
          "name": "stdout",
          "text": [
            "{'D', 'a', 'I', 'i', 'M', 'b', 'n', 'S'}\n"
          ]
        }
      ]
    },
    {
      "cell_type": "code",
      "source": [
        "quote_1.split('. ')"
      ],
      "metadata": {
        "colab": {
          "base_uri": "https://localhost:8080/"
        },
        "id": "yFs7D--Vx4Xv",
        "outputId": "de9ab293-ac1a-46c5-c49f-9e64a258279c"
      },
      "execution_count": null,
      "outputs": [
        {
          "output_type": "execute_result",
          "data": {
            "text/plain": [
              "['My name is Dhairya Summi', 'I am billionare']"
            ]
          },
          "metadata": {},
          "execution_count": 12
        }
      ]
    },
    {
      "cell_type": "code",
      "source": [
        "a = int(input('Enter a number :- '))\n",
        "result = 1\n",
        "for i in range(2,a+1):\n",
        "  result *= i\n",
        "print(result)"
      ],
      "metadata": {
        "colab": {
          "base_uri": "https://localhost:8080/"
        },
        "id": "D4vcU_IwzdNa",
        "outputId": "789b5aa3-ca50-473d-f744-e571909dc300"
      },
      "execution_count": null,
      "outputs": [
        {
          "output_type": "stream",
          "name": "stdout",
          "text": [
            "Enter a number :- 10\n",
            "3628800\n"
          ]
        }
      ]
    },
    {
      "cell_type": "code",
      "source": [
        "def fe(n):\n",
        "  a = list(range(1,n+1))\n",
        "  print(a)\n",
        "  fec = 1\n",
        "  for i in range(1,n+1):\n",
        "    fec *= i\n",
        "  return fec"
      ],
      "metadata": {
        "id": "k-EZLY752zkF"
      },
      "execution_count": null,
      "outputs": []
    },
    {
      "cell_type": "code",
      "source": [
        "fe(10)"
      ],
      "metadata": {
        "colab": {
          "base_uri": "https://localhost:8080/"
        },
        "id": "e_kuZTBf3MSB",
        "outputId": "7479e803-771d-4a71-a4b7-211101ee9b7c"
      },
      "execution_count": null,
      "outputs": [
        {
          "output_type": "stream",
          "name": "stdout",
          "text": [
            "[1, 2, 3, 4, 5, 6, 7, 8, 9, 10]\n"
          ]
        },
        {
          "output_type": "execute_result",
          "data": {
            "text/plain": [
              "3628800"
            ]
          },
          "metadata": {},
          "execution_count": 16
        }
      ]
    },
    {
      "cell_type": "code",
      "source": [
        "# wap which takes date as a string and print quaters as output\n",
        "\n",
        "sample_date = '2020-07-01'\n",
        "b = sample_date.split('-')[1]\n",
        "dict = {1:'Jan',2:'Feb',3:'Mar',4:'Apr',5:'May',6:'Jun',7:'Jul',8:'Aug',9:'Sep',10:'Oct',11:'Nov',12:'Dec'}\n",
        "print(dict[int(b)])"
      ],
      "metadata": {
        "colab": {
          "base_uri": "https://localhost:8080/"
        },
        "id": "Hbti20Rk3PT0",
        "outputId": "42863034-adef-474b-89bf-a739546fce60"
      },
      "execution_count": null,
      "outputs": [
        {
          "output_type": "stream",
          "name": "stdout",
          "text": [
            "Jul\n"
          ]
        }
      ]
    },
    {
      "cell_type": "code",
      "source": [
        "sample_date = '2020-07-01'\n",
        "\n",
        "month = int(sample_date.split('-')[1])\n",
        "\n",
        "if 1 <= month <= 3:\n",
        "    quarter = 'jan , feb , mar'\n",
        "elif 4 <= month <= 6:\n",
        "    quarter = 'april , may , june'\n",
        "elif 7 <= month <= 9:\n",
        "    quarter = 'july , aug , sep'\n",
        "else:\n",
        "    quarter = 'oct , nov , dec'\n",
        "\n",
        "print(f\"Quarter: {quarter}\")\n"
      ],
      "metadata": {
        "colab": {
          "base_uri": "https://localhost:8080/"
        },
        "id": "aBw1Q3WK5JBJ",
        "outputId": "cc99d0b1-7c80-48e8-9ba9-ea9f8c199667"
      },
      "execution_count": null,
      "outputs": [
        {
          "output_type": "stream",
          "name": "stdout",
          "text": [
            "Quarter: july , aug , sep\n"
          ]
        }
      ]
    },
    {
      "cell_type": "code",
      "source": [
        "# put the value in the metioned index\n",
        "\n",
        "a = [1,2,3,4,5,6]\n",
        "value = 100\n",
        "index = 3\n",
        "my_list = a[0:index] + [value] + a[index:]\n",
        "print(my_list)"
      ],
      "metadata": {
        "colab": {
          "base_uri": "https://localhost:8080/"
        },
        "id": "5tc67beB8Pvk",
        "outputId": "0be3592f-33a0-4b91-85fb-5c90ad391332"
      },
      "execution_count": null,
      "outputs": [
        {
          "output_type": "stream",
          "name": "stdout",
          "text": [
            "[1, 2, 3, 100, 4, 5, 6]\n"
          ]
        }
      ]
    },
    {
      "cell_type": "markdown",
      "source": [
        "Classes\n"
      ],
      "metadata": {
        "id": "w8HQnEDKC5Xr"
      }
    },
    {
      "cell_type": "code",
      "source": [
        "class bpit:\n",
        "  def __init__(self,name,age):\n",
        "    self.name = name\n",
        "    self.age = age\n",
        "  def stud_name(self):\n",
        "    print(f'this is class of bpit and name is :--- {self.name}')\n",
        "  def stud_age(self):\n",
        "    print(f'this is the class of bpit and age is :--- {self.age}')"
      ],
      "metadata": {
        "id": "x7jeLWJUC6wT"
      },
      "execution_count": null,
      "outputs": []
    },
    {
      "cell_type": "code",
      "source": [
        "b = bpit(name = 'Dhairya' , age = 20)\n",
        "b.stud_name()\n",
        "b.stud_age()"
      ],
      "metadata": {
        "colab": {
          "base_uri": "https://localhost:8080/"
        },
        "id": "sFmlgKlNDyaF",
        "outputId": "b98f33c0-6aa4-4225-f5d4-23e3b10c8267"
      },
      "execution_count": null,
      "outputs": [
        {
          "output_type": "stream",
          "name": "stdout",
          "text": [
            "this is class of bpit and name is :--- Dhairya\n",
            "this is the class of bpit and age is :--- 20\n"
          ]
        }
      ]
    },
    {
      "cell_type": "code",
      "source": [
        "string='hohn000doe000123'\n",
        "a = string.replace('0',' ')\n",
        "a = a.split()\n",
        "print(a)\n"
      ],
      "metadata": {
        "colab": {
          "base_uri": "https://localhost:8080/"
        },
        "id": "YiDtABqFmz2A",
        "outputId": "d38d7473-7b17-4a1a-9cca-d6bf6b72ab70"
      },
      "execution_count": null,
      "outputs": [
        {
          "output_type": "stream",
          "name": "stdout",
          "text": [
            "['hohn', 'doe', '123']\n"
          ]
        }
      ]
    },
    {
      "cell_type": "code",
      "source": [
        "a = list(input())\n",
        "b = list(input())\n",
        "lst = []\n",
        "\n",
        "for i in a:\n",
        "  for i in b:\n",
        "      b.pop(b.index(i))\n",
        "      lst.append(i)\n",
        "print(lst)\n"
      ],
      "metadata": {
        "colab": {
          "base_uri": "https://localhost:8080/"
        },
        "id": "3ludlMB5sf8O",
        "outputId": "c01dc235-1afc-4256-b0f1-2552584f43a0"
      },
      "execution_count": null,
      "outputs": [
        {
          "output_type": "stream",
          "name": "stdout",
          "text": [
            "tota\n",
            "otat\n",
            "['o', 'a', 't', 't']\n"
          ]
        }
      ]
    }
  ]
}
