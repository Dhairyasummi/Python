{
  "nbformat": 4,
  "nbformat_minor": 0,
  "metadata": {
    "kernelspec": {
      "display_name": "Python 3",
      "language": "python",
      "name": "python3"
    },
    "language_info": {
      "codemirror_mode": {
        "name": "ipython",
        "version": 3
      },
      "file_extension": ".py",
      "mimetype": "text/x-python",
      "name": "python",
      "nbconvert_exporter": "python",
      "pygments_lexer": "ipython3",
      "version": "3.7.4"
    },
    "colab": {
      "provenance": [],
      "include_colab_link": true
    }
  },
  "cells": [
    {
      "cell_type": "markdown",
      "metadata": {
        "id": "view-in-github",
        "colab_type": "text"
      },
      "source": [
        "<a href=\"https://colab.research.google.com/github/Dhairyasummi/python/blob/main/Copy_of_Assignment_Tuples%2C_Sets_and_Dictionaries.ipynb\" target=\"_parent\"><img src=\"https://colab.research.google.com/assets/colab-badge.svg\" alt=\"Open In Colab\"/></a>"
      ]
    },
    {
      "cell_type": "markdown",
      "metadata": {
        "id": "8WbUJEVzs8Bx"
      },
      "source": [
        "## <u>While doing this assignment only use those concepts which have been taught till now</u>"
      ]
    },
    {
      "cell_type": "markdown",
      "metadata": {
        "id": "KjPWYK0Rs8By"
      },
      "source": [
        "## <u>Problem 1</u>\n",
        "\n",
        "### Another measure of average\n",
        "\n",
        "* Mode is defined as the value that appears most often in a set of data values. Mode corresponds to the most frequent value.\n",
        "* You are given a list of numbers and you need to calculate the mode of this list"
      ]
    },
    {
      "cell_type": "code",
      "metadata": {
        "id": "34TbaGurs8Bz"
      },
      "source": [
        "# A list containing average daily temperature over 10 days\n",
        "temperatures = [34, 40, 29, 33, 42, 40, 39, 34, 34,33 ]\n"
      ],
      "execution_count": null,
      "outputs": []
    },
    {
      "cell_type": "code",
      "source": [],
      "metadata": {
        "id": "4LoFXNi4Kz8i"
      },
      "execution_count": null,
      "outputs": []
    },
    {
      "cell_type": "code",
      "metadata": {
        "id": "N1Yhpkiws8B3"
      },
      "source": [
        "# Step 1 : Find the unique set of values. Store this in a list\n",
        "temperatures = [34, 40, 29, 33, 42, 40, 39, 34, 34,33 ]\n",
        "unique_temps = []\n",
        "for t in temperatures:\n",
        "    if t not in unique_temps:\n",
        "        unique_temps.append(t)\n"
      ],
      "execution_count": 3,
      "outputs": []
    },
    {
      "cell_type": "code",
      "metadata": {
        "id": "KpMdlB5Fs8B8",
        "colab": {
          "base_uri": "https://localhost:8080/"
        },
        "outputId": "7a9bd16b-3ef5-4eac-e66e-9dbebd342e71"
      },
      "source": [
        "# Print the unique temperature list\n",
        "print(\"Unique temperatures:\", unique_temps)"
      ],
      "execution_count": 4,
      "outputs": [
        {
          "output_type": "stream",
          "name": "stdout",
          "text": [
            "Unique temperatures: [34, 40, 29, 33, 42, 39]\n"
          ]
        }
      ]
    },
    {
      "cell_type": "code",
      "metadata": {
        "id": "J7CyJi_Ls8B_",
        "colab": {
          "base_uri": "https://localhost:8080/"
        },
        "outputId": "9978f6ed-7576-4c0c-fced-d60c0b1bc73c"
      },
      "source": [
        "freq_dict = {}          # empty dictionary\n",
        "\n",
        "# First key\n",
        "freq_dict[unique_temps[0]] = temperatures.count(unique_temps[0])   # 34\n",
        "# Second key\n",
        "freq_dict[unique_temps[1]] = temperatures.count(unique_temps[1])   # 40\n",
        "# Third key\n",
        "freq_dict[unique_temps[2]] = temperatures.count(unique_temps[2])   # 29\n",
        "# Fourth key\n",
        "freq_dict[unique_temps[3]] = temperatures.count(unique_temps[3])   # 33\n",
        "# Fifth key\n",
        "freq_dict[unique_temps[4]] = temperatures.count(unique_temps[4])   # 42\n",
        "# Sixth key\n",
        "freq_dict[unique_temps[5]] = temperatures.count(unique_temps[5])   # 39\n",
        "\n",
        "print(\"Frequency dictionary:\", freq_dict)"
      ],
      "execution_count": 5,
      "outputs": [
        {
          "output_type": "stream",
          "name": "stdout",
          "text": [
            "Frequency dictionary: {34: 3, 40: 2, 29: 1, 33: 2, 42: 1, 39: 1}\n"
          ]
        }
      ]
    },
    {
      "cell_type": "code",
      "metadata": {
        "id": "YgjOJYF2nxor"
      },
      "source": [],
      "execution_count": null,
      "outputs": []
    },
    {
      "cell_type": "code",
      "metadata": {
        "id": "4-ZxbmMxtWfQ"
      },
      "source": [
        "# Step 3: Store the dictionary values in a list\n",
        "\n",
        "count_list = list(freq_dict.values())          # [3, 2, 1, 2, 1, 1]\n",
        "\n",
        "# Find the index of the most frequent temperature\n",
        "max_index = count_list.index(max(count_list))"
      ],
      "execution_count": 6,
      "outputs": []
    },
    {
      "cell_type": "code",
      "metadata": {
        "id": "GQ79IFBE2VC4"
      },
      "source": [],
      "execution_count": null,
      "outputs": []
    },
    {
      "cell_type": "code",
      "metadata": {
        "id": "7OGR--2us8CI",
        "colab": {
          "base_uri": "https://localhost:8080/"
        },
        "outputId": "612617de-ddc0-4bd7-ab70-981ca5f06f1c"
      },
      "source": [
        "# Step 4 : Create the list of dictionary keys\n",
        "key_list = list(freq_dict.keys())              # [34, 40, 29, 33, 42, 39]\n",
        "\n",
        "# Calculate the mode temperature\n",
        "mode_temp = key_list[max_index]\n",
        "\n",
        "print(\"Mode temperature:\", mode_temp)\n"
      ],
      "execution_count": 7,
      "outputs": [
        {
          "output_type": "stream",
          "name": "stdout",
          "text": [
            "Mode temperature: 34\n"
          ]
        }
      ]
    },
    {
      "cell_type": "code",
      "metadata": {
        "id": "Cmaz9OQlow4O"
      },
      "source": [],
      "execution_count": null,
      "outputs": []
    },
    {
      "cell_type": "markdown",
      "metadata": {
        "id": "5qd8g8UUs8CM"
      },
      "source": [
        "## <u>Problem 2 </u>\n",
        "\n",
        "### Challenging the immutability of tuples\n",
        "\n",
        "You are given a list of tuples. You need to replace the last element of the last tuple"
      ]
    },
    {
      "cell_type": "code",
      "metadata": {
        "id": "FBJy9Sq_s8CN",
        "colab": {
          "base_uri": "https://localhost:8080/"
        },
        "outputId": "6009c589-afe0-437d-e7d8-930d32e73ce5"
      },
      "source": [
        "# Input list of tuples\n",
        "\n",
        "list_of_tuples = [(10,20,30),(30,40,50),(50,60,70)]\n",
        "\n",
        "\n",
        "# Expected output : Replace the last element 70 with 100\n",
        "# output_list = [(10,20,30),(30,40,50),(50,60,100)]"
      ],
      "execution_count": 8,
      "outputs": [
        {
          "output_type": "stream",
          "name": "stdout",
          "text": [
            "[(10, 20, 30), (30, 40, 50), (50, 60, 100)]\n"
          ]
        }
      ]
    },
    {
      "cell_type": "code",
      "metadata": {
        "id": "UNtYax1as8CR",
        "colab": {
          "base_uri": "https://localhost:8080/"
        },
        "outputId": "8278fb15-1c4b-446e-d836-eaceb39b1ebb"
      },
      "source": [
        "\n",
        "list_of_tuples = [(10, 20, 30), (30, 40, 50), (50, 60, 70)]\n",
        "\n",
        "last_tuple = list_of_tuples[-1]           # (50, 60, 70)\n",
        "\n",
        "new_last_tuple = last_tuple[:-1] + (100,) # (50, 60, 100)\n",
        "\n",
        "\n",
        "list_of_tuples[-1] = new_last_tuple\n",
        "\n",
        "print(list_of_tuples)\n"
      ],
      "execution_count": 9,
      "outputs": [
        {
          "output_type": "stream",
          "name": "stdout",
          "text": [
            "[(10, 20, 30), (30, 40, 50), (50, 60, 100)]\n"
          ]
        }
      ]
    },
    {
      "cell_type": "markdown",
      "metadata": {
        "id": "ejRCi-vTs8CU"
      },
      "source": [
        "## <u> Problem 3 </u>\n",
        "\n",
        "Natural Language Processing or NLP is one of the most promising fields in Machine Learning. Most of the times in NLP we deal with the textual data (a bunch of strings). Sometimes when we are processing the text, it is a common practice to get rid of some set of stop words from our original text. By default stop words are very common words used in English language such as and, or, punctuations etc.\n",
        "\n",
        "In this exercise, you are provided with a default set of stop words and you need to add some extra set of custom words."
      ]
    },
    {
      "cell_type": "code",
      "metadata": {
        "id": "C5olNuDGs8CU"
      },
      "source": [
        "# A sample sentence\n",
        "\n",
        "sentence = 'Hello, good morning folks! Today we will announce the half yearly performance results of the company. Due to the ongoing COVID-19 pandemic, our profits have declined by 60% as compared to the last year'\n",
        "\n",
        "# Print your sentence\n"
      ],
      "execution_count": null,
      "outputs": []
    },
    {
      "cell_type": "code",
      "metadata": {
        "id": "B4afm8gCs8CY"
      },
      "source": [
        "# Default set of stop words\n",
        "stop_words = {\"i\", \"me\", \"my\", \"myself\", \"we\", \"our\", \"ours\", \"ourselves\", \"you\", \"your\", \"yours\", \"yourself\",\n",
        "              \"yourselves\", \"he\", \"him\", \"his\", \"himself\", \"she\", \"her\", \"hers\", \"herself\", \"it\", \"its\", \"itself\",\n",
        "              \"they\", \"them\", \"their\", \"theirs\", \"themselves\", \"what\", \"which\", \"who\", \"whom\", \"this\", \"that\",\n",
        "              \"these\", \"those\", \"am\", \"is\", \"are\", \"was\", \"were\", \"be\", \"been\", \"being\", \"have\", \"has\", \"had\",\n",
        "              \"having\", \"do\", \"does\", \"did\", \"doing\", \"a\", \"an\", \"the\", \"and\", \"but\", \"if\", \"or\", \"because\",\n",
        "              \"as\", \"until\", \"while\", \"of\", \"at\", \"by\", \"for\", \"with\", \"about\", \"against\", \"between\", \"into\",\n",
        "              \"through\", \"during\", \"before\", \"after\", \"above\", \"below\", \"to\", \"from\", \"up\", \"down\", \"in\", \"out\",\n",
        "              \"on\", \"off\", \"over\", \"under\", \"again\", \"further\", \"then\", \"once\", \"here\", \"there\", \"when\", \"where\",\n",
        "              \"why\", \"how\", \"all\", \"any\", \"both\", \"each\", \"few\", \"more\", \"most\", \"other\", \"some\", \"such\", \"no\",\n",
        "              \"nor\", \"not\", \"only\", \"own\", \"same\", \"so\", \"than\", \"too\", \"very\", \"s\", \"t\", \"can\", \"will\", \"just\",\n",
        "              \"don\", \"should\", \"now\"}\n"
      ],
      "execution_count": null,
      "outputs": []
    },
    {
      "cell_type": "code",
      "metadata": {
        "id": "evgHHnRks8Cc"
      },
      "source": [
        "# Update the set of stop words by adding the custom stop words\n",
        "custom_stop_words = [\"hello\",\"good\",\"morning\",\"half\",\"yearly\"]\n",
        "\n",
        "# Your code here\n",
        "\n",
        "\n",
        "# Print the stop words in a sorted manner\n"
      ],
      "execution_count": null,
      "outputs": []
    },
    {
      "cell_type": "code",
      "source": [
        "stop_words.update(set(custom_stop_words))"
      ],
      "metadata": {
        "id": "GZosmRIM4IJs"
      },
      "execution_count": null,
      "outputs": []
    },
    {
      "cell_type": "code",
      "source": [
        "print(stop_words)"
      ],
      "metadata": {
        "colab": {
          "base_uri": "https://localhost:8080/"
        },
        "id": "W-GB96FV4PXr",
        "outputId": "0ff4a5d4-0460-4270-bcc8-0b8b1c53e9e8"
      },
      "execution_count": null,
      "outputs": [
        {
          "output_type": "stream",
          "name": "stdout",
          "text": [
            "{'have', 'had', 'herself', 'just', 'hers', 'being', 'both', 'on', 'itself', 'not', 'our', 'an', 'under', 'too', 'himself', 'can', 'be', 'ours', 'through', 'than', 'or', 'themselves', 'his', 'for', 'is', 'they', 'off', 'because', 'such', 'hello', 'out', 'further', 'its', 'after', 't', 'few', 's', 'myself', 'with', 'own', 'there', 'how', 'before', 'each', 'good', 'who', 'up', 'and', 'having', 'has', 'by', 'ourselves', 'were', 'into', 'below', 'these', 'should', 'yearly', 'do', 'so', 'did', 'theirs', 'this', 'doing', 'once', 'you', 'which', 'then', 'no', 'those', 'he', 'during', 'what', 'more', 'until', 'to', 'are', 'yours', 'above', 'i', 'my', 'at', 'if', 'your', 'does', 'whom', 'in', 'her', 'most', 'me', 'some', 'down', 'here', 'only', 'it', 'any', 'now', 'between', 'same', 'yourselves', 'other', 'over', 'against', 'nor', 'where', 'of', 'them', 'but', 'while', 'we', 'when', 'am', 'yourself', 'very', 'that', 'from', 'again', 'why', 'him', 'was', 'a', 'morning', 'don', 'all', 'been', 'the', 'as', 'will', 'their', 'she', 'half', 'about'}\n"
          ]
        }
      ]
    },
    {
      "cell_type": "code",
      "metadata": {
        "id": "tmDNHgdStrhX"
      },
      "source": [
        "# # Do the same task another way. Keep in mind to use the original set of stop_words for this piece of code\n"
      ],
      "execution_count": null,
      "outputs": []
    },
    {
      "cell_type": "code",
      "metadata": {
        "id": "ifv8s_zvt8jF"
      },
      "source": [],
      "execution_count": null,
      "outputs": []
    },
    {
      "cell_type": "code",
      "metadata": {
        "id": "-gDAWvqjuFN-"
      },
      "source": [],
      "execution_count": null,
      "outputs": []
    },
    {
      "cell_type": "markdown",
      "metadata": {
        "id": "P1rOYC8Is8Cf"
      },
      "source": [
        "## <u>Problem 4</u>\n",
        "\n",
        " Write a Python script to check whether a given key already exists in a dictionary. If it does, drop that key from the dictionary. If it does not, add that key and corresponding value to the dictionary"
      ]
    },
    {
      "cell_type": "code",
      "metadata": {
        "id": "ySeGyCtCs8Cg"
      },
      "source": [
        "# Your dictionary\n",
        "employee_dict = {'Name':'Sanket','Skills':['Python','Machine Learning','Deep Learning'],'Band':6.0,\n",
        "                 'Promotion Year':[2016,2018,2020]}"
      ],
      "execution_count": null,
      "outputs": []
    },
    {
      "cell_type": "code",
      "metadata": {
        "id": "MI7mOHaqs8Cj"
      },
      "source": [
        "# Check if the key 'Employee_ID' is present in the dictionary.\n"
      ],
      "execution_count": null,
      "outputs": []
    },
    {
      "cell_type": "code",
      "metadata": {
        "id": "i_SSYQQV5Psa"
      },
      "source": [
        "if 'Employee_ID' not in employee_dict:        # key absent → add it\n",
        "    employee_dict['Employee_ID'] = 4503233"
      ],
      "execution_count": null,
      "outputs": []
    },
    {
      "cell_type": "code",
      "metadata": {
        "id": "GCJ4vajGrtRW"
      },
      "source": [
        "# If not present add this key to this dictionary and the corresponding value to be 4503233\n"
      ],
      "execution_count": null,
      "outputs": []
    },
    {
      "cell_type": "code",
      "metadata": {
        "id": "lIVSd3Fe5anL"
      },
      "source": [
        "if 'Band' in employee_dict:                   # key present → drop it\n",
        "    employee_dict.pop('Band')"
      ],
      "execution_count": null,
      "outputs": []
    },
    {
      "cell_type": "code",
      "metadata": {
        "id": "ARPbZfY8s8Co"
      },
      "source": [
        "# Check if the key 'Band' is present in the dictionary.\n"
      ],
      "execution_count": null,
      "outputs": []
    },
    {
      "cell_type": "code",
      "metadata": {
        "id": "lPBn5hgx5kJk"
      },
      "source": [
        "if 'Band' in employee_dict:                   # key present → drop it\n",
        "    employee_dict.pop('Band')"
      ],
      "execution_count": null,
      "outputs": []
    },
    {
      "cell_type": "code",
      "metadata": {
        "id": "JzW0oiKor7aI"
      },
      "source": [
        "# If present, drop this key from the dictionary\n"
      ],
      "execution_count": null,
      "outputs": []
    },
    {
      "cell_type": "code",
      "metadata": {
        "id": "0MF5rpRKsALl"
      },
      "source": [
        "print(employee_dict)"
      ],
      "execution_count": null,
      "outputs": []
    },
    {
      "cell_type": "code",
      "source": [
        "# initial dictionary\n",
        "employee_dict = {\n",
        "    'Name'          : 'Sanket',\n",
        "    'Skills'        : ['Python', 'Machine Learning', 'Deep Learning'],\n",
        "    'Band'          : 6.0,\n",
        "    'Promotion Year': [2016, 2018, 2020]\n",
        "}\n",
        "\n",
        "if 'Employee_ID' not in employee_dict:\n",
        "    employee_dict['Employee_ID'] = 4503233\n",
        "\n",
        "\n",
        "if 'Band' in employee_dict:\n",
        "    employee_dict.pop('Band')\n",
        "\n",
        "print(employee_dict)\n"
      ],
      "metadata": {
        "id": "n46pXLsk6FeL",
        "colab": {
          "base_uri": "https://localhost:8080/"
        },
        "outputId": "7740f0a5-16ec-4204-f206-b54642e85ca1"
      },
      "execution_count": 10,
      "outputs": [
        {
          "output_type": "stream",
          "name": "stdout",
          "text": [
            "{'Name': 'Sanket', 'Skills': ['Python', 'Machine Learning', 'Deep Learning'], 'Promotion Year': [2016, 2018, 2020], 'Employee_ID': 4503233}\n"
          ]
        }
      ]
    },
    {
      "cell_type": "code",
      "source": [
        "employee_dict = {\n",
        "    'Name'          : 'Sanket',\n",
        "    'Skills'        : ['Python', 'Machine Learning', 'Deep Learning'],\n",
        "    'Band'          : 6.0,\n",
        "    'Promotion Year': [2016, 2018, 2020]\n",
        "}\n",
        "employee_dict.get('Name','Not found')"
      ],
      "metadata": {
        "colab": {
          "base_uri": "https://localhost:8080/",
          "height": 36
        },
        "id": "PeZYHbMwoz-0",
        "outputId": "709a8fa9-f04f-4988-8a5b-1506b6991948"
      },
      "execution_count": 11,
      "outputs": [
        {
          "output_type": "execute_result",
          "data": {
            "text/plain": [
              "'Sanket'"
            ],
            "application/vnd.google.colaboratory.intrinsic+json": {
              "type": "string"
            }
          },
          "metadata": {},
          "execution_count": 11
        }
      ]
    }
  ]
}
