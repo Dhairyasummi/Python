{
  "nbformat": 4,
  "nbformat_minor": 0,
  "metadata": {
    "colab": {
      "provenance": [],
      "authorship_tag": "ABX9TyMgvJyx3bmHucHfhTNTn4mW",
      "include_colab_link": true
    },
    "kernelspec": {
      "name": "python3",
      "display_name": "Python 3"
    },
    "language_info": {
      "name": "python"
    }
  },
  "cells": [
    {
      "cell_type": "markdown",
      "metadata": {
        "id": "view-in-github",
        "colab_type": "text"
      },
      "source": [
        "<a href=\"https://colab.research.google.com/github/Dhairyasummi/python/blob/main/Untitled2.ipynb\" target=\"_parent\"><img src=\"https://colab.research.google.com/assets/colab-badge.svg\" alt=\"Open In Colab\"/></a>"
      ]
    },
    {
      "cell_type": "code",
      "execution_count": null,
      "metadata": {
        "colab": {
          "base_uri": "https://localhost:8080/"
        },
        "id": "i0TaVWEssHvP",
        "outputId": "44964b9a-c84e-4f60-ea0c-d4ae5fa29791"
      },
      "outputs": [
        {
          "output_type": "stream",
          "name": "stdout",
          "text": [
            "{}\n"
          ]
        }
      ],
      "source": [
        "#Sets are an unordered collection of uniqe elements we can construct them by using the set() function\n",
        "# they cannot have duplicates\n",
        "# they are mutable just like lists\n",
        "# you can create the non-empty set wuth curly braces by specifying elements seprated by commas\n",
        "\n",
        "a = {}   #empty set\n",
        "print(a)"
      ]
    },
    {
      "cell_type": "code",
      "source": [
        "#indexing is also not possible in set\n",
        "a = {1,2,3,4,5,4,6}\n",
        "print(a)                      #it gives only unique values\n",
        "print(a[1])                   # not possible"
      ],
      "metadata": {
        "colab": {
          "base_uri": "https://localhost:8080/"
        },
        "id": "QF143wsKvH8E",
        "outputId": "7a4fe3f7-665a-44f9-c5da-adebbf4d0e2a"
      },
      "execution_count": null,
      "outputs": [
        {
          "output_type": "stream",
          "name": "stdout",
          "text": [
            "{1, 2, 3, 4, 5, 6}\n"
          ]
        }
      ]
    },
    {
      "cell_type": "code",
      "source": [
        "#add - to add a single element we can use add it adds in last\n",
        "a = {1,2,3,4}\n",
        "a.add('dhairya')\n",
        "print(a)"
      ],
      "metadata": {
        "colab": {
          "base_uri": "https://localhost:8080/"
        },
        "id": "3xxaV8oLvZk-",
        "outputId": "e7c961c4-39dd-4b52-a340-fbc9beac7726"
      },
      "execution_count": null,
      "outputs": [
        {
          "output_type": "stream",
          "name": "stdout",
          "text": [
            "{1, 2, 3, 4, 'dhairya'}\n"
          ]
        }
      ]
    },
    {
      "cell_type": "code",
      "source": [
        "#remove - use remove an item / element from the set and it takes element as the argument\n",
        "a = {1,2,3,4}\n",
        "a.remove(3)\n",
        "print(a)"
      ],
      "metadata": {
        "colab": {
          "base_uri": "https://localhost:8080/"
        },
        "id": "_DuU2ljnv9iN",
        "outputId": "25e35ae4-6342-47ac-992c-fa06d404e7d9"
      },
      "execution_count": null,
      "outputs": [
        {
          "output_type": "stream",
          "name": "stdout",
          "text": [
            "{1, 2, 4}\n"
          ]
        }
      ]
    },
    {
      "cell_type": "code",
      "source": [
        "a = {1,2,3,'dhairya','Dhairya'}\n",
        "print(a)"
      ],
      "metadata": {
        "colab": {
          "base_uri": "https://localhost:8080/"
        },
        "id": "tDbZWLX4wMNK",
        "outputId": "7810a7cc-8114-4270-c3df-f27fe8d13a08"
      },
      "execution_count": null,
      "outputs": [
        {
          "output_type": "stream",
          "name": "stdout",
          "text": [
            "{1, 2, 3, 'Dhairya', 'dhairya'}\n"
          ]
        }
      ]
    },
    {
      "cell_type": "markdown",
      "source": [
        "Dictionary"
      ],
      "metadata": {
        "id": "WkHwIZOmx_xe"
      }
    },
    {
      "cell_type": "code",
      "source": [
        "# dictionary can be understood as the hashing in other languages\n",
        "# they are the collection of objects that are stored by a key and store in key:vale pairs\n",
        "# we can construct the dictionary by\n",
        "\n",
        "a = {'key1':'value1','key2':'value2'}\n",
        "type(a)\n"
      ],
      "metadata": {
        "colab": {
          "base_uri": "https://localhost:8080/"
        },
        "id": "rKgYix8vyBKC",
        "outputId": "d08d9388-7142-4e29-9362-d58cc57ae381"
      },
      "execution_count": null,
      "outputs": [
        {
          "output_type": "execute_result",
          "data": {
            "text/plain": [
              "dict"
            ]
          },
          "metadata": {},
          "execution_count": 9
        }
      ]
    },
    {
      "cell_type": "code",
      "source": [
        "print(a.keys())\n",
        "print(a.values())"
      ],
      "metadata": {
        "colab": {
          "base_uri": "https://localhost:8080/"
        },
        "id": "14wT9P1yyqVh",
        "outputId": "0a04f3f4-5b52-45ad-c5d2-854e34967320"
      },
      "execution_count": null,
      "outputs": [
        {
          "output_type": "stream",
          "name": "stdout",
          "text": [
            "dict_keys(['key1', 'key2'])\n",
            "dict_values(['value1', 'value2'])\n"
          ]
        }
      ]
    },
    {
      "cell_type": "code",
      "source": [
        "a = {'Name':['dhairya','summi'] , 'age':['19','20']}\n",
        "print(a.values())"
      ],
      "metadata": {
        "colab": {
          "base_uri": "https://localhost:8080/"
        },
        "id": "Zi4ELQKszBeT",
        "outputId": "290c2e78-c27e-410d-8b1a-c8c32b4abea7"
      },
      "execution_count": null,
      "outputs": [
        {
          "output_type": "stream",
          "name": "stdout",
          "text": [
            "dict_values([['dhairya', 'summi'], ['19', '20']])\n"
          ]
        }
      ]
    },
    {
      "cell_type": "code",
      "source": [
        "# indexing is not direclty possible in discitonary however we can use it by using keys\n",
        "# item metord is used to return the value of key and pairs\n",
        "print(a.items())"
      ],
      "metadata": {
        "colab": {
          "base_uri": "https://localhost:8080/"
        },
        "id": "sgL4x-LZzZHb",
        "outputId": "ce49a069-08de-4e1c-801b-0c177722a8a9"
      },
      "execution_count": null,
      "outputs": [
        {
          "output_type": "stream",
          "name": "stdout",
          "text": [
            "dict_items([('Name', ['dhairya', 'summi']), ('age', ['19', '20'])])\n"
          ]
        }
      ]
    },
    {
      "cell_type": "code",
      "source": [
        "a['name'] = 'luffy'  # value is added to it\n",
        "print(a)"
      ],
      "metadata": {
        "colab": {
          "base_uri": "https://localhost:8080/"
        },
        "id": "xF7E0GKh0P_B",
        "outputId": "55393f6f-aad1-4770-b0e6-cf39a688e02b"
      },
      "execution_count": null,
      "outputs": [
        {
          "output_type": "stream",
          "name": "stdout",
          "text": [
            "{'Name': ['dhairya', 'summi'], 'age': ['19', '20'], 'name': 'luffy'}\n"
          ]
        }
      ]
    },
    {
      "cell_type": "code",
      "source": [
        "# dict - we  can create dictonary objects from sequence of the items which are pairs this is done using the dict() methord , it takes the list of paired element as the argument\n",
        "\n",
        "country_list =\n",
        "city_list =\n",
        "print(dict(zip(county_list,city_list)))"
      ],
      "metadata": {
        "colab": {
          "base_uri": "https://localhost:8080/",
          "height": 106
        },
        "id": "wy2GTjgr1HbZ",
        "outputId": "fae5ee12-5fa1-4780-da15-77350e407992"
      },
      "execution_count": null,
      "outputs": [
        {
          "output_type": "error",
          "ename": "SyntaxError",
          "evalue": "invalid syntax (ipython-input-14-2181942963.py, line 3)",
          "traceback": [
            "\u001b[0;36m  File \u001b[0;32m\"/tmp/ipython-input-14-2181942963.py\"\u001b[0;36m, line \u001b[0;32m3\u001b[0m\n\u001b[0;31m    country_list =\u001b[0m\n\u001b[0m                  ^\u001b[0m\n\u001b[0;31mSyntaxError\u001b[0m\u001b[0;31m:\u001b[0m invalid syntax\n"
          ]
        }
      ]
    },
    {
      "cell_type": "code",
      "source": [
        "# pop - they are used to remove the element from the dictionary havnig given key\n",
        "\n",
        "a = {'name':'mohan','gender':'male'}\n",
        "print(a.pop('name'))\n",
        "print(a)"
      ],
      "metadata": {
        "colab": {
          "base_uri": "https://localhost:8080/"
        },
        "id": "KyB8X0Sp1hFG",
        "outputId": "d64080cc-4d11-4e04-a37d-ca0dc5d312ed"
      },
      "execution_count": null,
      "outputs": [
        {
          "output_type": "stream",
          "name": "stdout",
          "text": [
            "mohan\n",
            "{'gender': 'male'}\n"
          ]
        }
      ]
    },
    {
      "cell_type": "code",
      "source": [
        "x = 30\n",
        "\n",
        "if x <= 30 :\n",
        "  print('x is greater than 10!')\n",
        "else :\n",
        "  print('x is less than 10')"
      ],
      "metadata": {
        "colab": {
          "base_uri": "https://localhost:8080/"
        },
        "id": "xgJAejARTdJv",
        "outputId": "a1c7b565-051f-4608-c7e9-115090d76f95"
      },
      "execution_count": null,
      "outputs": [
        {
          "output_type": "stream",
          "name": "stdout",
          "text": [
            "x is greater than 10!\n"
          ]
        }
      ]
    },
    {
      "cell_type": "code",
      "source": [
        "# wap to check if the number is even or odd\n",
        "\n",
        "a = int(input('Enter your number :- mb'))\n",
        "\n",
        "if a % 2 == 0 :\n",
        "  print('Number is even')\n",
        "else :\n",
        "  print('Number is odd')"
      ],
      "metadata": {
        "colab": {
          "base_uri": "https://localhost:8080/"
        },
        "id": "piUqux9wTxOQ",
        "outputId": "2602709d-b1f4-433c-8b04-d5f69e7a22dc"
      },
      "execution_count": null,
      "outputs": [
        {
          "output_type": "stream",
          "name": "stdout",
          "text": [
            "Enter your number :- 484765235342341234124214235235\n",
            "Number is odd\n"
          ]
        }
      ]
    },
    {
      "cell_type": "code",
      "source": [
        "a = ['dhairya','ashish','karan','niyant']\n",
        "for name in a:\n",
        "  print(name)"
      ],
      "metadata": {
        "colab": {
          "base_uri": "https://localhost:8080/"
        },
        "id": "LJcN9GI4XfoY",
        "outputId": "77f79def-10dc-4cfa-b651-9319f866ae36"
      },
      "execution_count": null,
      "outputs": [
        {
          "output_type": "stream",
          "name": "stdout",
          "text": [
            "dhairya\n",
            "ashish\n",
            "karan\n",
            "niyant\n"
          ]
        }
      ]
    },
    {
      "cell_type": "code",
      "source": [
        "a = [1,2,3,4,5,6,7,8,9]\n",
        "b = []\n",
        "for i in a:\n",
        "  print(i*i*i)\n",
        "  b.append(i*i*i)\n",
        "print(b)"
      ],
      "metadata": {
        "colab": {
          "base_uri": "https://localhost:8080/"
        },
        "id": "waEAT06oaAPB",
        "outputId": "131fc4bc-d5f8-4362-a9bd-c592676a10cb"
      },
      "execution_count": null,
      "outputs": [
        {
          "output_type": "stream",
          "name": "stdout",
          "text": [
            "1\n",
            "8\n",
            "27\n",
            "64\n",
            "125\n",
            "216\n",
            "343\n",
            "512\n",
            "729\n",
            "[1, 8, 27, 64, 125, 216, 343, 512, 729]\n"
          ]
        }
      ]
    },
    {
      "cell_type": "code",
      "source": [
        "# wap to print square of even number and cube of odd number\n",
        "\n",
        "a = [1,2,3,4,5,6,7,8,9]\n",
        "even_list = []\n",
        "odd_list = []\n",
        "for i in a:\n",
        "  if i % 2 == 0:\n",
        "    even_list.append(i**2)\n",
        "  else:\n",
        "    odd_list.append(i**3)\n",
        "print(even_list)\n",
        "print(odd_list)"
      ],
      "metadata": {
        "colab": {
          "base_uri": "https://localhost:8080/"
        },
        "id": "JI1wtOM_bPoN",
        "outputId": "41ba75e4-3b17-4c54-a0c4-4175ce5e422a"
      },
      "execution_count": null,
      "outputs": [
        {
          "output_type": "stream",
          "name": "stdout",
          "text": [
            "[4, 16, 36, 64]\n",
            "[1, 27, 125, 343, 729]\n"
          ]
        }
      ]
    },
    {
      "cell_type": "code",
      "source": [
        "# print the sum of the square of the number\n",
        "\n",
        "a = {1,2,3,4,5,6,7,8,9}\n",
        "\n",
        "even_list = []\n",
        "for i in a:\n",
        "  even_list.append(i**2)\n",
        "print(sum(even_list))"
      ],
      "metadata": {
        "colab": {
          "base_uri": "https://localhost:8080/"
        },
        "id": "lPbGjYa6dSxM",
        "outputId": "66200b72-c99d-4ce5-e445-49649ab00805"
      },
      "execution_count": null,
      "outputs": [
        {
          "output_type": "stream",
          "name": "stdout",
          "text": [
            "285\n"
          ]
        }
      ]
    },
    {
      "cell_type": "code",
      "source": [
        "# print the sum of the square of the number\n",
        "\n",
        "a = {1,2,3,4,5,6,7,8,9}\n",
        "\n",
        "even_list = 0\n",
        "for i in a:\n",
        "  even_list += i**2\n",
        "print(even_list)"
      ],
      "metadata": {
        "colab": {
          "base_uri": "https://localhost:8080/"
        },
        "id": "GzZqinnHdi2V",
        "outputId": "6c4b1039-a5fe-47fe-ff9d-f650ff5ff02c"
      },
      "execution_count": null,
      "outputs": [
        {
          "output_type": "stream",
          "name": "stdout",
          "text": [
            "285\n"
          ]
        }
      ]
    },
    {
      "cell_type": "code",
      "source": [
        "# print the string\n",
        "\n",
        "a = 'My name is Dhairya Summi'\n",
        "for i in a:\n",
        "  if i not in ['a','e','i','o','u']:\n",
        "    print(i)"
      ],
      "metadata": {
        "colab": {
          "base_uri": "https://localhost:8080/"
        },
        "id": "Gb4rw2KbeC-i",
        "outputId": "e5c35e33-9ba5-4497-ae63-21b6bcaaa7f8"
      },
      "execution_count": null,
      "outputs": [
        {
          "output_type": "stream",
          "name": "stdout",
          "text": [
            "M\n",
            "y\n",
            " \n",
            "n\n",
            "m\n",
            " \n",
            "s\n",
            " \n",
            "D\n",
            "h\n",
            "r\n",
            "y\n",
            " \n",
            "S\n",
            "m\n",
            "m\n"
          ]
        }
      ]
    },
    {
      "cell_type": "code",
      "source": [
        "# print the string\n",
        "\n",
        "a = 'My name is Dhairya Summi'\n",
        "for i in a:\n",
        "  if i in ['a','e','i','o','u']:\n",
        "    print(i)"
      ],
      "metadata": {
        "colab": {
          "base_uri": "https://localhost:8080/"
        },
        "id": "IKC073y7elz9",
        "outputId": "fb613a61-b4ab-4f7e-fcd6-37001c24396d"
      },
      "execution_count": null,
      "outputs": [
        {
          "output_type": "stream",
          "name": "stdout",
          "text": [
            "a\n",
            "e\n",
            "i\n",
            "a\n",
            "i\n",
            "a\n",
            "u\n",
            "i\n"
          ]
        }
      ]
    },
    {
      "cell_type": "code",
      "source": [
        "a = 'My name is Dhairya Summi'\n",
        "a.split()"
      ],
      "metadata": {
        "colab": {
          "base_uri": "https://localhost:8080/"
        },
        "id": "5aL0OpEteuHA",
        "outputId": "3cc46bac-28f3-4f80-f666-1dd391b2383d"
      },
      "execution_count": null,
      "outputs": [
        {
          "output_type": "execute_result",
          "data": {
            "text/plain": [
              "['My', 'name', 'is', 'Dhairya', 'Summi']"
            ]
          },
          "metadata": {},
          "execution_count": 44
        }
      ]
    },
    {
      "cell_type": "code",
      "source": [
        "#print the first element of each word\n",
        "\n",
        "w = 'orewa monkey d luffy'\n",
        "l = w.split()\n",
        "\n",
        "for i in l:\n",
        "  print(i[0])"
      ],
      "metadata": {
        "colab": {
          "base_uri": "https://localhost:8080/"
        },
        "id": "aHf1B6QYe7hD",
        "outputId": "7b0e86ce-88cc-4659-89fc-a2306160a0d7"
      },
      "execution_count": null,
      "outputs": [
        {
          "output_type": "stream",
          "name": "stdout",
          "text": [
            "o\n",
            "m\n",
            "d\n",
            "l\n"
          ]
        }
      ]
    },
    {
      "cell_type": "code",
      "source": [
        "# print all the days excluding the word day\n",
        "\n",
        "days = ['monday', 'tuesday', 'wednesday', 'thursday', 'friday', 'saturday', 'sunday']\n",
        "\n",
        "for i in days:\n",
        "    print(i.replace('day', ''))\n",
        "\n"
      ],
      "metadata": {
        "colab": {
          "base_uri": "https://localhost:8080/"
        },
        "id": "DrCUQ2w_f0cn",
        "outputId": "c1960808-e2e5-4585-89e1-d373dee4dfd6"
      },
      "execution_count": null,
      "outputs": [
        {
          "output_type": "stream",
          "name": "stdout",
          "text": [
            "mon\n",
            "tues\n",
            "wednes\n",
            "thurs\n",
            "fri\n",
            "satur\n",
            "sun\n"
          ]
        }
      ]
    },
    {
      "cell_type": "code",
      "source": [
        "# print all the days excluding the word day / methord2\n",
        "\n",
        "days = ['monday', 'tuesday', 'wednesday', 'thursday', 'friday', 'saturday', 'sunday']\n",
        "\n",
        "for i in days:\n",
        "    print(i[:-3])\n",
        "\n"
      ],
      "metadata": {
        "colab": {
          "base_uri": "https://localhost:8080/"
        },
        "id": "GL8vyvCLhI7a",
        "outputId": "0e433456-911d-47bd-f119-b4d59643267c"
      },
      "execution_count": null,
      "outputs": [
        {
          "output_type": "stream",
          "name": "stdout",
          "text": [
            "mon\n",
            "tues\n",
            "wednes\n",
            "thurs\n",
            "fri\n",
            "satur\n",
            "sun\n"
          ]
        }
      ]
    },
    {
      "cell_type": "code",
      "source": [
        "a = 10\n",
        "while a < 15:\n",
        "  print(a)\n",
        "  a = a+1\n",
        "else:\n",
        "  print('done')"
      ],
      "metadata": {
        "colab": {
          "base_uri": "https://localhost:8080/"
        },
        "id": "wjKO7juDj2g2",
        "outputId": "f0a8217c-2343-43a9-efc7-d4c0c3e69aaf"
      },
      "execution_count": null,
      "outputs": [
        {
          "output_type": "stream",
          "name": "stdout",
          "text": [
            "10\n",
            "11\n",
            "12\n",
            "13\n",
            "14\n",
            "done\n"
          ]
        }
      ]
    }
  ]
}
