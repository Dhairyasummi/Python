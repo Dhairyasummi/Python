{
  "nbformat": 4,
  "nbformat_minor": 0,
  "metadata": {
    "kernelspec": {
      "display_name": "Python 3",
      "language": "python",
      "name": "python3"
    },
    "language_info": {
      "codemirror_mode": {
        "name": "ipython",
        "version": 3
      },
      "file_extension": ".py",
      "mimetype": "text/x-python",
      "name": "python",
      "nbconvert_exporter": "python",
      "pygments_lexer": "ipython3",
      "version": "3.7.4"
    },
    "colab": {
      "provenance": [],
      "include_colab_link": true
    }
  },
  "cells": [
    {
      "cell_type": "markdown",
      "metadata": {
        "id": "view-in-github",
        "colab_type": "text"
      },
      "source": [
        "<a href=\"https://colab.research.google.com/github/Dhairyasummi/python/blob/main/Copy_of_Day_1_Assignment_Integers%2C_Floats_and_Booleans.ipynb\" target=\"_parent\"><img src=\"https://colab.research.google.com/assets/colab-badge.svg\" alt=\"Open In Colab\"/></a>"
      ]
    },
    {
      "cell_type": "markdown",
      "metadata": {
        "id": "8ECk3jeWDelY"
      },
      "source": [
        "## Problem 1\n",
        "\n",
        "In a football tournament, based on the outcome of a particular match a team gets following points:\n",
        "* wins - 3\n",
        "* draws - 2\n",
        "* losses - 0\n",
        "\n",
        "Team toppers plays 10 matches in this tournament. It wins 5 matches, loses 3 matches and draws 2. Show the total points achive by team toppers?"
      ]
    },
    {
      "cell_type": "code",
      "source": [
        "win = 3\n",
        "draw =  2\n",
        "losses = 0\n",
        "\n",
        "total_points = 5*win + 2*draw + 0*losses\n",
        "print(total_points)"
      ],
      "metadata": {
        "id": "ynAy5qA7iYj9",
        "colab": {
          "base_uri": "https://localhost:8080/"
        },
        "outputId": "806a2a3b-6684-4c1d-a5cb-81ead40f7092"
      },
      "execution_count": 4,
      "outputs": [
        {
          "output_type": "stream",
          "name": "stdout",
          "text": [
            "19\n"
          ]
        }
      ]
    },
    {
      "cell_type": "code",
      "source": [],
      "metadata": {
        "id": "gWYy7pGV3NTt"
      },
      "execution_count": 4,
      "outputs": []
    },
    {
      "cell_type": "markdown",
      "metadata": {
        "id": "-ioInfYKDelh"
      },
      "source": [
        "## <u>Problem 2 </u>\n",
        "\n",
        "* Root of a function $f(x)$ is defined as the value $x$ where $f(x)=0$\n",
        "* Consider a quadratic function $ f(x) = x^2 + 3x - 4$\n",
        "\n",
        "### Find the value of the function $f(x)$ at points   $x=3,x=-1, x=1$."
      ]
    },
    {
      "cell_type": "code",
      "source": [
        "x = 3\n",
        "three = (3)**2+3*(3)-4\n",
        "print(three)"
      ],
      "metadata": {
        "id": "Buo-zscDcbOC",
        "colab": {
          "base_uri": "https://localhost:8080/"
        },
        "outputId": "601d6e39-b6f1-47b1-e698-e118bee34c50"
      },
      "execution_count": 5,
      "outputs": [
        {
          "output_type": "stream",
          "name": "stdout",
          "text": [
            "14\n"
          ]
        }
      ]
    },
    {
      "cell_type": "code",
      "source": [],
      "metadata": {
        "colab": {
          "base_uri": "https://localhost:8080/"
        },
        "id": "NwSC_1WSLmke",
        "outputId": "554a40a4-ccd1-4294-a2fb-4225345a3172"
      },
      "execution_count": null,
      "outputs": [
        {
          "output_type": "execute_result",
          "data": {
            "text/plain": [
              "14"
            ]
          },
          "metadata": {},
          "execution_count": 2
        }
      ]
    },
    {
      "cell_type": "code",
      "source": [
        "x = -1\n",
        "n_one = (-1)**2+3*(-1)-4\n",
        "print(n_one)"
      ],
      "metadata": {
        "id": "Udw_bkn5chrq",
        "colab": {
          "base_uri": "https://localhost:8080/"
        },
        "outputId": "c951f6b4-36bd-4754-e9b7-7f573803247d"
      },
      "execution_count": 7,
      "outputs": [
        {
          "output_type": "stream",
          "name": "stdout",
          "text": [
            "-6\n"
          ]
        }
      ]
    },
    {
      "cell_type": "code",
      "source": [],
      "metadata": {
        "id": "YgCuxXhKc0ad"
      },
      "execution_count": null,
      "outputs": []
    },
    {
      "cell_type": "code",
      "source": [
        "x = 1\n",
        "one = (1)**2+3*(1)-4\n",
        "print(one)"
      ],
      "metadata": {
        "id": "RqIdcAqwkA2Z",
        "colab": {
          "base_uri": "https://localhost:8080/"
        },
        "outputId": "e4d3db76-e7a7-4708-9e8e-7f56f703f1f9"
      },
      "execution_count": 8,
      "outputs": [
        {
          "output_type": "stream",
          "name": "stdout",
          "text": [
            "0\n"
          ]
        }
      ]
    },
    {
      "cell_type": "markdown",
      "metadata": {
        "id": "EvldlcwqDelz"
      },
      "source": [
        "### Return the boolean for each value of x"
      ]
    },
    {
      "cell_type": "code",
      "source": [
        "# Check whether x = 3 is a root value of f(x)\n",
        "x = 3\n",
        "three = x**2 + 3*x - 4\n",
        "\n",
        "print(three == 0)\n"
      ],
      "metadata": {
        "id": "Dhjv8ClnK8s4",
        "colab": {
          "base_uri": "https://localhost:8080/"
        },
        "outputId": "5332359a-c548-4d0d-f3ee-6ef3527f3eb6"
      },
      "execution_count": 20,
      "outputs": [
        {
          "output_type": "stream",
          "name": "stdout",
          "text": [
            "False\n"
          ]
        }
      ]
    },
    {
      "cell_type": "code",
      "metadata": {
        "id": "gsNS4Ki4Del2",
        "colab": {
          "base_uri": "https://localhost:8080/"
        },
        "outputId": "4fd2b536-bf60-4ba6-a010-d2e22c14f55e"
      },
      "source": [
        "# Check whether x = -1 is a root value of f(x)\n",
        "x = -1\n",
        "three = x**2 + 3*x - 4\n",
        "\n",
        "print(three == 0)\n"
      ],
      "execution_count": 21,
      "outputs": [
        {
          "output_type": "stream",
          "name": "stdout",
          "text": [
            "False\n"
          ]
        }
      ]
    },
    {
      "cell_type": "code",
      "metadata": {
        "id": "yExDY-ZXDel4",
        "colab": {
          "base_uri": "https://localhost:8080/"
        },
        "outputId": "8f035c3c-eee7-4dcc-ac79-c36b35e2e7a9"
      },
      "source": [
        "# Check whether 1 is a root of f(x)\n",
        "x = 1\n",
        "three = x**2 + 3*x - 4\n",
        "\n",
        "print(three == 0)\n",
        "\n"
      ],
      "execution_count": 22,
      "outputs": [
        {
          "output_type": "stream",
          "name": "stdout",
          "text": [
            "True\n"
          ]
        }
      ]
    },
    {
      "cell_type": "markdown",
      "metadata": {
        "id": "tNAI2AHRDel6"
      },
      "source": [
        "## <u> Problem 3 </u>\n",
        "\n",
        "A bag contains 45 apples, 65 oranges and 30 bananas. Find the percentage of each type of food items in the bag."
      ]
    },
    {
      "cell_type": "code",
      "metadata": {
        "id": "XJ9Rq4P3Del7"
      },
      "source": [
        "apples = 45\n",
        "oranges = 65\n",
        "bananas = 30"
      ],
      "execution_count": null,
      "outputs": []
    },
    {
      "cell_type": "code",
      "metadata": {
        "id": "S6lJZtaXDel9",
        "colab": {
          "base_uri": "https://localhost:8080/"
        },
        "outputId": "8ee2693b-ad2c-4c45-a7d3-7e26104f0516"
      },
      "source": [
        "# Calculate the percentage of apples\n",
        "apples = 45\n",
        "oranges = 65\n",
        "bananas = 30\n",
        "\n",
        "apple_percent = (100*apples)/(apples+oranges+bananas)\n",
        "print(apple_percent)"
      ],
      "execution_count": 10,
      "outputs": [
        {
          "output_type": "stream",
          "name": "stdout",
          "text": [
            "32.142857142857146\n"
          ]
        }
      ]
    },
    {
      "cell_type": "code",
      "source": [
        "# Calculate the percentage of oranges\n",
        "apples = 45\n",
        "oranges = 65\n",
        "bananas = 30\n",
        "\n",
        "orange_percentage = (100*oranges)/(apples+oranges+bananas)\n",
        "print(orange_percentage)"
      ],
      "metadata": {
        "id": "lE1o3E4wLkRM",
        "colab": {
          "base_uri": "https://localhost:8080/"
        },
        "outputId": "5532546f-b3ae-4e9a-ea0e-5c309feea892"
      },
      "execution_count": 12,
      "outputs": [
        {
          "output_type": "stream",
          "name": "stdout",
          "text": [
            "46.42857142857143\n"
          ]
        }
      ]
    },
    {
      "cell_type": "code",
      "source": [
        "# Calculate the percentage of bananas\n",
        "apples = 45\n",
        "oranges = 65\n",
        "bananas = 30\n",
        "\n",
        "bananas_percentage = (100*bananas)/(apples+oranges+bananas)\n",
        "print(bananas_percentage)"
      ],
      "metadata": {
        "id": "Nnm4Q7M_MNz5",
        "colab": {
          "base_uri": "https://localhost:8080/"
        },
        "outputId": "eee3b184-040b-42b1-acb3-53c2e6418b8c"
      },
      "execution_count": 13,
      "outputs": [
        {
          "output_type": "stream",
          "name": "stdout",
          "text": [
            "21.428571428571427\n"
          ]
        }
      ]
    },
    {
      "cell_type": "markdown",
      "metadata": {
        "id": "F44LczfzDemD"
      },
      "source": [
        "## <u>Problem 4</u>\n",
        "\n",
        "You were playing a fun guessing game during your school break. There were a total of 100 participants excluding you. Out of these 100 people, 30 were Maths Majors, 45 were Economics Majors and 25 were Physics Majors.\n",
        "\n",
        "The game was divided into three rounds.\n",
        "\n",
        "1. In the first round, you had to guess the number of Maths Majors and you correctly guessed 20 of them.\n",
        "2. In the second round, you had to guess the number of Economics Majors and you correctly guessed 30 of them.\n",
        "3. In the final third round, you had to guess the number of Physics Majors and you correctly guessed 20 of them.\n",
        "\n",
        "### Accuracy is correct guesses upon total number of people in the group"
      ]
    },
    {
      "cell_type": "markdown",
      "metadata": {
        "id": "lkGEV_zpDemE"
      },
      "source": [
        "* ### Define your variables"
      ]
    },
    {
      "cell_type": "code",
      "metadata": {
        "id": "OfXY9LcVDemF"
      },
      "source": [
        "mathsmajors=30\n",
        "economicsmajors=45\n",
        "physicsmajors=25\n",
        "correctly_mathsmajors = 20\n",
        "correctly_economicsmajors = 30\n",
        "correctly_physicsmajors = 20"
      ],
      "execution_count": null,
      "outputs": []
    },
    {
      "cell_type": "markdown",
      "metadata": {
        "id": "Eg_Or6GmDemI"
      },
      "source": [
        "* ### Calculate your accuracy in each of the three rounds"
      ]
    },
    {
      "cell_type": "code",
      "metadata": {
        "id": "QUbDKOR3DemJ",
        "colab": {
          "base_uri": "https://localhost:8080/"
        },
        "outputId": "df7b3c5b-635c-4824-8690-88749e4745b1"
      },
      "source": [
        "# Calculate Maths accuracy\n",
        "mathsmajors=30\n",
        "economicsmajors=45\n",
        "physicsmajors=25\n",
        "correctly_mathsmajors = 20\n",
        "correctly_economicsmajors = 30\n",
        "correctly_physicsmajors = 20\n",
        "\n",
        "math_acc = (100*correctly_mathsmajors)/mathsmajors\n",
        "print(math_acc)\n"
      ],
      "execution_count": 14,
      "outputs": [
        {
          "output_type": "stream",
          "name": "stdout",
          "text": [
            "66.66666666666667\n"
          ]
        }
      ]
    },
    {
      "cell_type": "code",
      "metadata": {
        "id": "PfX4DowhDemM",
        "colab": {
          "base_uri": "https://localhost:8080/"
        },
        "outputId": "b4abcb3b-df4d-4f1d-f739-692477c727c3"
      },
      "source": [
        "# Calculate Economics accuracy\n",
        "mathsmajors=30\n",
        "economicsmajors=45\n",
        "physicsmajors=25\n",
        "correctly_mathsmajors = 20\n",
        "correctly_economicsmajors = 30\n",
        "correctly_physicsmajors = 20\n",
        "\n",
        "economics_acc = (100*correctly_economicsmajors)/economicsmajors\n",
        "print(economics_acc)\n",
        "\n"
      ],
      "execution_count": 16,
      "outputs": [
        {
          "output_type": "stream",
          "name": "stdout",
          "text": [
            "66.66666666666667\n"
          ]
        }
      ]
    },
    {
      "cell_type": "code",
      "metadata": {
        "id": "ZV-hzGKCDemP",
        "colab": {
          "base_uri": "https://localhost:8080/"
        },
        "outputId": "a66077f7-b6c5-4488-dd09-8960b7ffa90f"
      },
      "source": [
        "# Calculate Physics accuracy\n",
        "mathsmajors=30\n",
        "economicsmajors=45\n",
        "physicsmajors=25\n",
        "correctly_mathsmajors = 20\n",
        "correctly_economicsmajors = 30\n",
        "correctly_physicsmajors = 20\n",
        "\n",
        "physics_majors = (100*correctly_physicsmajors)/physicsmajors\n",
        "print(physics_majors)\n",
        "\n"
      ],
      "execution_count": 17,
      "outputs": [
        {
          "output_type": "stream",
          "name": "stdout",
          "text": [
            "80.0\n"
          ]
        }
      ]
    },
    {
      "cell_type": "markdown",
      "metadata": {
        "id": "FvKZonnwDemS"
      },
      "source": [
        "* ### Calculate your overall accuracy in the entire game"
      ]
    },
    {
      "cell_type": "code",
      "metadata": {
        "id": "bQjpB6TRaSrL",
        "colab": {
          "base_uri": "https://localhost:8080/"
        },
        "outputId": "1a1fd3f1-fe8b-4570-cf67-d19d471580b7"
      },
      "source": [
        "# total_accuracy\n",
        "mathsmajors=30\n",
        "economicsmajors=45\n",
        "physicsmajors=25\n",
        "correctly_mathsmajors = 20\n",
        "correctly_economicsmajors = 30\n",
        "correctly_physicsmajors = 20\n",
        "\n",
        "total_students = mathsmajors+economicsmajors+physicsmajors\n",
        "total_correct = correctly_mathsmajors+correctly_economicsmajors+correctly_physicsmajors\n",
        "total_accuracy = (100*total_correct)/total_students\n",
        "print(total_accuracy)\n"
      ],
      "execution_count": 19,
      "outputs": [
        {
          "output_type": "stream",
          "name": "stdout",
          "text": [
            "70.0\n"
          ]
        }
      ]
    }
  ]
}
