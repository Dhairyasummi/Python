{
  "nbformat": 4,
  "nbformat_minor": 0,
  "metadata": {
    "kernelspec": {
      "display_name": "Python 3",
      "language": "python",
      "name": "python3"
    },
    "language_info": {
      "codemirror_mode": {
        "name": "ipython",
        "version": 3
      },
      "file_extension": ".py",
      "mimetype": "text/x-python",
      "name": "python",
      "nbconvert_exporter": "python",
      "pygments_lexer": "ipython3",
      "version": "3.7.4"
    },
    "colab": {
      "provenance": [],
      "include_colab_link": true
    }
  },
  "cells": [
    {
      "cell_type": "markdown",
      "metadata": {
        "id": "view-in-github",
        "colab_type": "text"
      },
      "source": [
        "<a href=\"https://colab.research.google.com/github/Dhairyasummi/python/blob/main/Copy_of_Day_2_Assignment_Introduction_to_Strings.ipynb\" target=\"_parent\"><img src=\"https://colab.research.google.com/assets/colab-badge.svg\" alt=\"Open In Colab\"/></a>"
      ]
    },
    {
      "cell_type": "markdown",
      "metadata": {
        "id": "uoGoqLiHFo3U"
      },
      "source": [
        "## <u>While doing this assignment only use those concepts which have been taught till now</u>"
      ]
    },
    {
      "cell_type": "markdown",
      "metadata": {
        "id": "LJJbprE6Fo3V"
      },
      "source": [
        "## <u>Problem 1</u>\n",
        "\n",
        "You are given a sentence which reads <b>\"Wikipedia is a free online encyclopedia, created and edited by volunteers around the world and hosted by the Wikimedia Foundation.\"</b>\n",
        "\n",
        "Find the number of words in the given sentence."
      ]
    },
    {
      "cell_type": "code",
      "metadata": {
        "id": "bNs1w7lDFo3W"
      },
      "source": [
        "# Store the given sentence in a variable\n",
        "sentence = \"Wikipedia is a free online encyclopedia, created and edited by volunteers around the world and hosted by the Wikimedia Foundation.\""
      ],
      "execution_count": null,
      "outputs": []
    },
    {
      "cell_type": "code",
      "source": [
        "# Calculate the total number of words in the sentence.  Hint : Use the count() method\n",
        "sentence = \"Wikipedia is a free online encyclopedia, created and edited by volunteers around the world and hosted by the Wikimedia Foundation.\"\n",
        "num_of_words = sentence.count(' ') + 1\n"
      ],
      "metadata": {
        "colab": {
          "base_uri": "https://localhost:8080/"
        },
        "id": "lkGnbemMbGGI",
        "outputId": "e8bb4929-c252-4cfe-be7d-feafd3b7fb3e"
      },
      "execution_count": 2,
      "outputs": [
        {
          "output_type": "stream",
          "name": "stdout",
          "text": [
            "20\n"
          ]
        }
      ]
    },
    {
      "cell_type": "code",
      "metadata": {
        "id": "qdWpgWgSFo3d",
        "colab": {
          "base_uri": "https://localhost:8080/"
        },
        "outputId": "cba7e81b-88ad-4190-c079-b5a7cc8722ba"
      },
      "source": [
        "# Print the variable num_of_words\n",
        "print(num_of_words)"
      ],
      "execution_count": null,
      "outputs": [
        {
          "output_type": "stream",
          "name": "stdout",
          "text": [
            "20\n"
          ]
        }
      ]
    },
    {
      "cell_type": "markdown",
      "metadata": {
        "id": "KNwy8gqZFo3h"
      },
      "source": [
        "## <u>Problem 2 </u>\n",
        "\n",
        "Write a Python code which takes a number and returns a corresponding string of hyphens. For example if the number is 3, it will return '---' , if the number is 5 it will return '-----'"
      ]
    },
    {
      "cell_type": "code",
      "metadata": {
        "id": "pA80LvUtFo3i"
      },
      "source": [
        "# Store the user input in a variable\n",
        "inputted_number = 10"
      ],
      "execution_count": null,
      "outputs": []
    },
    {
      "cell_type": "code",
      "source": [
        "inputted_number = 10\n",
        "hyphens = inputted_number * '-'\n",
        "print(hyphens)"
      ],
      "metadata": {
        "colab": {
          "base_uri": "https://localhost:8080/"
        },
        "id": "et1WlBCtyDfA",
        "outputId": "e6b5e910-8f7b-44e5-f9c2-a63edf737c94"
      },
      "execution_count": 3,
      "outputs": [
        {
          "output_type": "stream",
          "name": "stdout",
          "text": [
            "----------\n"
          ]
        }
      ]
    },
    {
      "cell_type": "code",
      "metadata": {
        "id": "tX6VPyrQFo3m"
      },
      "source": [
        "# Create a string of equivalent number of hyphens. Hint : remember what happens when we multiply string by a number?\n"
      ],
      "execution_count": null,
      "outputs": []
    },
    {
      "cell_type": "code",
      "metadata": {
        "id": "AfJ1TmZVFo3s",
        "colab": {
          "base_uri": "https://localhost:8080/"
        },
        "outputId": "1a76e5de-b679-46ab-a9ec-37c24719ea8f"
      },
      "source": [
        "# Print the string of hyphens\n",
        "inputted_number = 10\n",
        "hyphens = inputted_number * '-'\n",
        "print(hyphens)"
      ],
      "execution_count": 4,
      "outputs": [
        {
          "output_type": "stream",
          "name": "stdout",
          "text": [
            "----------\n"
          ]
        }
      ]
    },
    {
      "cell_type": "markdown",
      "metadata": {
        "id": "hCG8HmhRFo3u"
      },
      "source": [
        "## <u> Problem 3 </u>\n",
        "\n",
        "A string can be called a safe bridge if it has no gaps in it i.e, no spaces. You are supposed to take an input from the user and print whether the string is a safe bridge or not."
      ]
    },
    {
      "cell_type": "code",
      "source": [],
      "metadata": {
        "id": "JB5XzBvIyigz"
      },
      "execution_count": null,
      "outputs": []
    },
    {
      "cell_type": "code",
      "metadata": {
        "id": "QLoggGagFo3x",
        "colab": {
          "base_uri": "https://localhost:8080/"
        },
        "outputId": "b7cb83af-f05b-4998-c84f-de16a56b0573"
      },
      "source": [
        "# Store the user input in a variable\n",
        "bridge = 'rajni jskdfhdjks'\n",
        "result = bridge.count(' ')\n",
        "print(result == 0)"
      ],
      "execution_count": 6,
      "outputs": [
        {
          "output_type": "stream",
          "name": "stdout",
          "text": [
            "False\n"
          ]
        }
      ]
    },
    {
      "cell_type": "code",
      "source": [],
      "metadata": {
        "id": "LfdCraiXRYA2"
      },
      "execution_count": null,
      "outputs": []
    },
    {
      "cell_type": "code",
      "metadata": {
        "id": "Zv5UgGr8Fo31",
        "colab": {
          "base_uri": "https://localhost:8080/"
        },
        "outputId": "4a49e6cd-9dd6-4fc1-966d-231135a95d58"
      },
      "source": [
        "# Return True if the bridge is safe and False if the bridge is not safe. Hint : Use the find() method\n",
        "bridge = 'rajni jskdfhdjks'\n",
        "result = bridge.count(' ')\n",
        "print(result == 0)"
      ],
      "execution_count": 7,
      "outputs": [
        {
          "output_type": "stream",
          "name": "stdout",
          "text": [
            "False\n"
          ]
        }
      ]
    },
    {
      "cell_type": "code",
      "metadata": {
        "id": "TBCckeOXFo35"
      },
      "source": [
        "# Fill in the blanks\n"
      ],
      "execution_count": null,
      "outputs": []
    },
    {
      "cell_type": "markdown",
      "metadata": {
        "id": "IO-p2ILHFo37"
      },
      "source": [
        "## <u>Problem 4</u>\n",
        "\n",
        "Count the number of D's in a string inputted by the user. This will be <b>case insensitive</b>."
      ]
    },
    {
      "cell_type": "code",
      "metadata": {
        "id": "CBqgtmkhFo38"
      },
      "source": [
        "# Store the user input in a variable\n",
        "user_string = 'Debris was scattered all over the place in the densest region of Denmark'"
      ],
      "execution_count": null,
      "outputs": []
    },
    {
      "cell_type": "code",
      "metadata": {
        "id": "-nKePpRMFo3-",
        "colab": {
          "base_uri": "https://localhost:8080/"
        },
        "outputId": "208dd5ff-61e9-4f72-f812-89a180d8582a"
      },
      "source": [
        "# Store the count of letter D in the inputted string. Note this will be a case insensitive search\n",
        "user_string = 'Debris was scattered all over the place in the densest region of Denmark'\n",
        "counters = user_string.count('d') + user_string.count('D')\n",
        "print(counters)"
      ],
      "execution_count": 9,
      "outputs": [
        {
          "output_type": "stream",
          "name": "stdout",
          "text": [
            "4\n"
          ]
        }
      ]
    },
    {
      "cell_type": "code",
      "metadata": {
        "id": "N9IXUH5AFo4A"
      },
      "source": [
        "# Fill in the blanks\n"
      ],
      "execution_count": null,
      "outputs": []
    },
    {
      "cell_type": "markdown",
      "metadata": {
        "id": "e40-mPXjFo4D"
      },
      "source": [
        "## <u>Problem 5</u>\n",
        "\n",
        "Check whether a given string is a palindrome. A palindrome is a word, number, phrase, or other sequence of characters which reads the same backward as forward, such as madam, racecar."
      ]
    },
    {
      "cell_type": "code",
      "metadata": {
        "id": "qs0ZYZkzFo4D",
        "colab": {
          "base_uri": "https://localhost:8080/"
        },
        "outputId": "6cc905c7-88f0-4012-9f66-b1e37c95062d"
      },
      "source": [
        "# Store the user input in a variable\n",
        "user_string = 'madam'\n",
        "user_reverse = user_string[::-1]\n",
        "print(user_reverse)"
      ],
      "execution_count": 10,
      "outputs": [
        {
          "output_type": "stream",
          "name": "stdout",
          "text": [
            "madam\n"
          ]
        }
      ]
    },
    {
      "cell_type": "code",
      "source": [
        "# Store the user input in a variable\n",
        "user_string = 'madam'\n",
        "user_reverse = user_string[::-1]\n",
        "print(user_reverse)"
      ],
      "metadata": {
        "colab": {
          "base_uri": "https://localhost:8080/"
        },
        "id": "6DTvSJinT0wb",
        "outputId": "395b82d8-a61a-401a-ed89-94cd4e27a7ea"
      },
      "execution_count": 11,
      "outputs": [
        {
          "output_type": "stream",
          "name": "stdout",
          "text": [
            "madam\n"
          ]
        }
      ]
    },
    {
      "cell_type": "code",
      "source": [
        "# Store the user input in a variable\n",
        "user_string = 'madam'\n",
        "user_reverse = user_string[::-1]\n",
        "print(user_reverse)"
      ],
      "metadata": {
        "colab": {
          "base_uri": "https://localhost:8080/"
        },
        "id": "72sryrGdTDKp",
        "outputId": "bf5eeece-ae55-4ef2-cfba-338555062275"
      },
      "execution_count": 12,
      "outputs": [
        {
          "output_type": "stream",
          "name": "stdout",
          "text": [
            "madam\n"
          ]
        }
      ]
    },
    {
      "cell_type": "code",
      "metadata": {
        "id": "OTVGL16NFo4G",
        "colab": {
          "base_uri": "https://localhost:8080/"
        },
        "outputId": "35e2beb5-3ec9-4f49-dee7-c5d733b2eef5"
      },
      "source": [
        "# Return True if a string is a Palindrome else return false\n",
        "# Store the user input in a variable\n",
        "user_string = 'madam'\n",
        "user_reverse = user_string[::-1]\n",
        "print(user_reverse == user_string)\n"
      ],
      "execution_count": 13,
      "outputs": [
        {
          "output_type": "stream",
          "name": "stdout",
          "text": [
            "True\n"
          ]
        }
      ]
    },
    {
      "cell_type": "code",
      "metadata": {
        "id": "KpmWDoCAkTCY"
      },
      "source": [],
      "execution_count": null,
      "outputs": []
    }
  ]
}
