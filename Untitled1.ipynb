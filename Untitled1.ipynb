{
  "nbformat": 4,
  "nbformat_minor": 0,
  "metadata": {
    "colab": {
      "provenance": [],
      "authorship_tag": "ABX9TyMSFa7bNxDkSJOjr15Zu7za",
      "include_colab_link": true
    },
    "kernelspec": {
      "name": "python3",
      "display_name": "Python 3"
    },
    "language_info": {
      "name": "python"
    }
  },
  "cells": [
    {
      "cell_type": "markdown",
      "metadata": {
        "id": "view-in-github",
        "colab_type": "text"
      },
      "source": [
        "<a href=\"https://colab.research.google.com/github/Dhairyasummi/python/blob/main/Untitled1.ipynb\" target=\"_parent\"><img src=\"https://colab.research.google.com/assets/colab-badge.svg\" alt=\"Open In Colab\"/></a>"
      ]
    },
    {
      "cell_type": "code",
      "execution_count": 1,
      "metadata": {
        "colab": {
          "base_uri": "https://localhost:8080/"
        },
        "id": "7AIemu62fXxg",
        "outputId": "b490bcf2-2f3b-47d2-ec78-ddb08cd94497"
      },
      "outputs": [
        {
          "output_type": "execute_result",
          "data": {
            "text/plain": [
              "list"
            ]
          },
          "metadata": {},
          "execution_count": 1
        }
      ],
      "source": [
        "# Lists can be thought of thee mosrt general version of the sequence in a python\n",
        "# unlike strings they are mutable emaning the elements can be changed\n",
        "# they are constructed with brackets [] and commas seperating every element\n",
        "\n",
        "a = [1,2,3,4.2,'jello',True]\n",
        "type(a)"
      ]
    },
    {
      "cell_type": "code",
      "source": [
        "print(a[4][3])"
      ],
      "metadata": {
        "colab": {
          "base_uri": "https://localhost:8080/"
        },
        "id": "S_YD-iDOgyvX",
        "outputId": "1da80d44-f209-4f63-f10b-5efe49b5f603"
      },
      "execution_count": 3,
      "outputs": [
        {
          "output_type": "stream",
          "name": "stdout",
          "text": [
            "l\n"
          ]
        }
      ]
    },
    {
      "cell_type": "code",
      "source": [
        "a = [1,2,3,4,5,6,7]\n",
        "print(a[2:5])"
      ],
      "metadata": {
        "colab": {
          "base_uri": "https://localhost:8080/"
        },
        "id": "YrHIYI-ChMRP",
        "outputId": "6c4eb74b-b6ef-41c7-e6cd-639ed9840c7c"
      },
      "execution_count": 4,
      "outputs": [
        {
          "output_type": "stream",
          "name": "stdout",
          "text": [
            "[3, 4, 5]\n"
          ]
        }
      ]
    },
    {
      "cell_type": "code",
      "source": [
        "print(a[2:5:2])"
      ],
      "metadata": {
        "colab": {
          "base_uri": "https://localhost:8080/"
        },
        "id": "fkTVSc0akRPz",
        "outputId": "f7b63d33-4293-476b-b144-07ddf6d7f638"
      },
      "execution_count": 5,
      "outputs": [
        {
          "output_type": "stream",
          "name": "stdout",
          "text": [
            "[3, 5]\n"
          ]
        }
      ]
    },
    {
      "cell_type": "markdown",
      "source": [
        "LIST OPERATIONS"
      ],
      "metadata": {
        "id": "t8lGrPCCkm4o"
      }
    },
    {
      "cell_type": "code",
      "source": [
        "#CONCAT\n",
        "a = [1,2,3,4,5,6,7]\n",
        "b = [4,5,6,7,8]\n",
        "print(a+b) #it does not store the final result"
      ],
      "metadata": {
        "colab": {
          "base_uri": "https://localhost:8080/"
        },
        "id": "d-4zJM2pkpF_",
        "outputId": "ae674358-e66a-41b7-e228-2aaba512ea27"
      },
      "execution_count": 6,
      "outputs": [
        {
          "output_type": "stream",
          "name": "stdout",
          "text": [
            "[1, 2, 3, 4, 5, 6, 7, 4, 5, 6, 7, 8]\n"
          ]
        }
      ]
    },
    {
      "cell_type": "code",
      "source": [
        "a = [1,2,3,4,5,6,7]\n",
        "b = [4,5,6,7,8]\n",
        "c = a+b\n",
        "print(c) #it does store the final result but on the price of extra space"
      ],
      "metadata": {
        "colab": {
          "base_uri": "https://localhost:8080/"
        },
        "id": "A1JIU1YtlTI3",
        "outputId": "5c523a5d-34de-44a8-b6bc-96da71bedfd6"
      },
      "execution_count": 7,
      "outputs": [
        {
          "output_type": "stream",
          "name": "stdout",
          "text": [
            "[1, 2, 3, 4, 5, 6, 7, 4, 5, 6, 7, 8]\n"
          ]
        }
      ]
    },
    {
      "cell_type": "code",
      "source": [
        "#APPEND() - use the append methord to permanently add an item to the end of the list\n",
        "# it takes the element which you want to add to the list as an argument"
      ],
      "metadata": {
        "id": "-1jYslC8lrwj"
      },
      "execution_count": null,
      "outputs": []
    },
    {
      "cell_type": "code",
      "source": [
        "a = [15,23,442]\n",
        "a.append('dhairya')\n",
        "print(a)"
      ],
      "metadata": {
        "colab": {
          "base_uri": "https://localhost:8080/"
        },
        "id": "ecs9418gllZ2",
        "outputId": "4856bb94-d686-40a8-d3f8-5d00ce713bb8"
      },
      "execution_count": 8,
      "outputs": [
        {
          "output_type": "stream",
          "name": "stdout",
          "text": [
            "[15, 23, 442, 'dhairya']\n"
          ]
        }
      ]
    },
    {
      "cell_type": "code",
      "source": [
        "a = [1,2,3,4,5]\n",
        "b = [3,4,5,7]\n",
        "a.append(b)\n",
        "print(a)   # this poses a problem as it add another list to it"
      ],
      "metadata": {
        "colab": {
          "base_uri": "https://localhost:8080/"
        },
        "id": "O8_7DFHymOW4",
        "outputId": "a8eee274-71d3-41f5-afb6-aabfe09226a4"
      },
      "execution_count": 10,
      "outputs": [
        {
          "output_type": "stream",
          "name": "stdout",
          "text": [
            "[1, 2, 3, 4, 5, [3, 4, 5, 7]]\n"
          ]
        }
      ]
    },
    {
      "cell_type": "code",
      "source": [
        "# to solve the above problem we can use the extend methord\n",
        "# extend methord is used to merge a list to an existing list , it is quite helpful when u want to merge the list\n",
        "a = [1,2,3,4,5]\n",
        "b = [3,4,5,7]\n",
        "a.extend(b)\n",
        "print(a)"
      ],
      "metadata": {
        "colab": {
          "base_uri": "https://localhost:8080/"
        },
        "id": "cACXgPFGmjnf",
        "outputId": "df4a0a25-c7f6-43ca-e10f-d360019a6d72"
      },
      "execution_count": 12,
      "outputs": [
        {
          "output_type": "stream",
          "name": "stdout",
          "text": [
            "[1, 2, 3, 4, 5, 3, 4, 5, 7]\n"
          ]
        }
      ]
    },
    {
      "cell_type": "code",
      "source": [
        "# len() function is used to return the length of the list\n",
        "a = [1,2,3,4,5,3,4,5,7]\n",
        "print(len(a))"
      ],
      "metadata": {
        "colab": {
          "base_uri": "https://localhost:8080/"
        },
        "id": "dtRtrpuDm4an",
        "outputId": "34f38b46-3586-4a02-d985-4f8dbd999c9c"
      },
      "execution_count": 13,
      "outputs": [
        {
          "output_type": "stream",
          "name": "stdout",
          "text": [
            "9\n"
          ]
        }
      ]
    },
    {
      "cell_type": "code",
      "source": [
        "#min- use to return the minimun element of the list\n",
        "#max - return the maximum element of the list\n",
        "a = [1,2,3,4,5,3,4,5,7]\n",
        "print(min(a))\n",
        "print(max(a))"
      ],
      "metadata": {
        "colab": {
          "base_uri": "https://localhost:8080/"
        },
        "id": "m3ebW0RonW_b",
        "outputId": "8cd7f3f5-3f97-4c95-efe3-8f8bf3c9badd"
      },
      "execution_count": 14,
      "outputs": [
        {
          "output_type": "stream",
          "name": "stdout",
          "text": [
            "1\n",
            "7\n"
          ]
        }
      ]
    },
    {
      "cell_type": "code",
      "source": [
        "# sort- used to sort the order in the list it by default returns the ascending order it is methord which is used to make changes permanently whereas sorted() is a function which is used to do it temporarily\n",
        "#sum - used to sum the values of the list\n",
        "a = [1,2,3,4,5,3,4,5,7]\n",
        "a.sort()\n",
        "print(sum(a))\n",
        "print(a)\n",
        "print(min(a))\n",
        "print(max(a))"
      ],
      "metadata": {
        "colab": {
          "base_uri": "https://localhost:8080/"
        },
        "id": "PHx-2dn_nupr",
        "outputId": "bb6d475c-2128-4197-9722-90c3e4a324ec"
      },
      "execution_count": 18,
      "outputs": [
        {
          "output_type": "stream",
          "name": "stdout",
          "text": [
            "34\n",
            "[1, 2, 3, 3, 4, 4, 5, 5, 7]\n",
            "1\n",
            "7\n"
          ]
        }
      ]
    },
    {
      "cell_type": "code",
      "source": [
        "#pop - it is used to remove th element from the list using the index (takes index as the element)\n",
        "# remove - it is used to remove the element from the list using the element (takes element as the argument)\n",
        "a = [1,2,3,4,'dhairya','wein']\n",
        "a.pop(-1)\n",
        "print(a)\n",
        "a.remove('dhairya')\n",
        "print(a)\n",
        "# pop is considered a good practice as it remove vaalue according to the index but remove have complexities when there are duplicate values"
      ],
      "metadata": {
        "colab": {
          "base_uri": "https://localhost:8080/"
        },
        "id": "PilRSvWbok6A",
        "outputId": "5691ec9d-d698-41f9-f170-3bdc3a3f558d"
      },
      "execution_count": 20,
      "outputs": [
        {
          "output_type": "stream",
          "name": "stdout",
          "text": [
            "[1, 2, 3, 4, 'dhairya']\n",
            "[1, 2, 3, 4]\n"
          ]
        }
      ]
    },
    {
      "cell_type": "code",
      "source": [
        "#reverse- this methord is used to reverse the list and the changes are taken permanently\n",
        "a = [1,2,3,4,5,6]\n",
        "a.reverse()\n",
        "print(a)"
      ],
      "metadata": {
        "colab": {
          "base_uri": "https://localhost:8080/"
        },
        "id": "g8enGUicp2hH",
        "outputId": "7de233b2-2970-442f-98e4-176688cdd95f"
      },
      "execution_count": 25,
      "outputs": [
        {
          "output_type": "stream",
          "name": "stdout",
          "text": [
            "[6, 5, 4, 3, 2, 1]\n"
          ]
        }
      ]
    }
  ]
}