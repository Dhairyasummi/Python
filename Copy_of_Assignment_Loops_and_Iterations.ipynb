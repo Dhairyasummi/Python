{
  "nbformat": 4,
  "nbformat_minor": 0,
  "metadata": {
    "colab": {
      "provenance": [],
      "include_colab_link": true
    },
    "kernelspec": {
      "name": "python3",
      "display_name": "Python 3"
    }
  },
  "cells": [
    {
      "cell_type": "markdown",
      "metadata": {
        "id": "view-in-github",
        "colab_type": "text"
      },
      "source": [
        "<a href=\"https://colab.research.google.com/github/Dhairyasummi/python/blob/main/Copy_of_Assignment_Loops_and_Iterations.ipynb\" target=\"_parent\"><img src=\"https://colab.research.google.com/assets/colab-badge.svg\" alt=\"Open In Colab\"/></a>"
      ]
    },
    {
      "cell_type": "markdown",
      "metadata": {
        "id": "DbG5aM4YkzEn"
      },
      "source": [
        "#### The SETI Institute is a not-for-profit research organization incorporated in 1984 whose mission is to explore, understand, and explain the origin and nature of life in the universe, and to apply the knowledge gained to inspire and guide present and future generations. It aims for discovery and for sharing knowledge as scientific ambassadors to the public, the press, and the government. SETI stands for the \"Search for Extraterrestrial Intelligence\".\n",
        "\n",
        "#### SETI received some signals from a far away galaxy on June 14, 2012. These signals could have been from a possible alien civilization (similar to what you would have seen in the movie Arrival).\n",
        "\n",
        "#### The signals indicated the existence of a secret language for sending messages across. Following are the observations made by the SETI team who discovered these signals :\n",
        "\n",
        "*   Aliens share a **tuple**, each element of tuple will be a **string** of alphabets\n",
        "*   Scientists still don't know what is the content of the strings inside the tuples but depending upon the length of the string, the string translates into an alphabet (0 ≡  ,1 ≡ A, 2 ≡ B, 3 ≡ C, .., 26 ≡ Z)\n",
        "*   **Space** between the words of the message is represented by an **empty string**\n",
        "\n",
        "<br> <u>A sample message received by SETI </u><br>\n",
        "\n",
        "**ADAM EVE** is denoted by the following tuple:\n",
        "\n",
        "<code>\n",
        " t = (\"s\", \"dymw\", \"z\", \"ndkjaakjkjnda\",\"\",\"tybhg\",\"nmbcjbabdbsabbsbhdbshr\",\"htroy\" )</code>\n",
        "\n",
        "\n",
        "Explanation:\n",
        "* A list of length of each element in the tuple is : <code>[1,4,1,13,0,5,22,5]</code>\n",
        "* Upon replacing numbers with corresponding alphabets and spaces, we get :\n",
        "<code>['A','D','A','M','','E','V','E'] </code>\n",
        "\n",
        "\n",
        "\n",
        "\n",
        "\n",
        "\n",
        "\n",
        "\n"
      ]
    },
    {
      "cell_type": "markdown",
      "metadata": {
        "id": "OpbPVo_bwo2B"
      },
      "source": [
        "### <u>Problem 1</u>\n",
        "\n",
        "#### Create a dictionary where the key corresponds to the position of the alphabet(consider space as the first alphabet) and the value corresponding to the key will be the alphabet.\n",
        "\n",
        "#### <code>range()</code> function in Python is pretty useful to get a list of numbers in sequence. You can use <code>help(range)</code> to know more about its details"
      ]
    },
    {
      "cell_type": "code",
      "metadata": {
        "id": "l9K6_UWqkyOC",
        "colab": {
          "base_uri": "https://localhost:8080/"
        },
        "outputId": "590219f3-fa2f-4368-8092-3df272a18280"
      },
      "source": [
        "# Create your dictionary below with keys as position of the alphabet and the value of the key will be the alphabet itself\n",
        "\n",
        "# Create a list of numbers from 0 to 26 using the range() function\n",
        "list_of_numbers = list(range(27))\n",
        "\n",
        "# Create the list of alphabets\n",
        "alphabets = \" ,a,b,c,d,e,f,g,h,i,j,k,l,m,n,o,p,q,r,s,t,u,v,w,x,y,z\"\n",
        "alphabets = alphabets.split(',')\n",
        "final = dict(zip(list_of_numbers,alphabets))\n",
        "\n",
        "print(final)"
      ],
      "execution_count": 1,
      "outputs": [
        {
          "output_type": "stream",
          "name": "stdout",
          "text": [
            "{0: ' ', 1: 'a', 2: 'b', 3: 'c', 4: 'd', 5: 'e', 6: 'f', 7: 'g', 8: 'h', 9: 'i', 10: 'j', 11: 'k', 12: 'l', 13: 'm', 14: 'n', 15: 'o', 16: 'p', 17: 'q', 18: 'r', 19: 's', 20: 't', 21: 'u', 22: 'v', 23: 'w', 24: 'x', 25: 'y', 26: 'z'}\n"
          ]
        }
      ]
    },
    {
      "cell_type": "code",
      "metadata": {
        "id": "9bnRPQ9G971m",
        "colab": {
          "base_uri": "https://localhost:8080/"
        },
        "outputId": "198059a0-43fa-4e91-f1b0-5fda7bdb462c"
      },
      "source": [
        "# Create a dictionary by zipping together the above two lists\n",
        "\n",
        "\n",
        "print(final)\n",
        "\n",
        "# Print your dictionary to double check;\n"
      ],
      "execution_count": 2,
      "outputs": [
        {
          "output_type": "stream",
          "name": "stdout",
          "text": [
            "{0: ' ', 1: 'a', 2: 'b', 3: 'c', 4: 'd', 5: 'e', 6: 'f', 7: 'g', 8: 'h', 9: 'i', 10: 'j', 11: 'k', 12: 'l', 13: 'm', 14: 'n', 15: 'o', 16: 'p', 17: 'q', 18: 'r', 19: 's', 20: 't', 21: 'u', 22: 'v', 23: 'w', 24: 'x', 25: 'y', 26: 'z'}\n"
          ]
        }
      ]
    },
    {
      "cell_type": "markdown",
      "metadata": {
        "id": "Lv-n7NZqKxET"
      },
      "source": [
        "### <u>Problem 2</u>\n",
        "#### Scientists receive the following message code from the alien civilization\n",
        "\n",
        "```\n",
        "encrypyted_message = (\"ajsuydtbe\", \"\", \"wunjbfusnjrgut\", \"uhbhr\", \"oirun\", \"lpef\", \"\", \"vhejsibr\", \"ydtse\", \"qlvuusrntuos\", \"ijwlbutybhlsoaxh\")\n",
        "```\n",
        "#### You have been asked to decode the above message"
      ]
    },
    {
      "cell_type": "code",
      "metadata": {
        "id": "7CC7IqIdKP-q"
      },
      "source": [
        "# Store the message in a variable\n",
        "encrypted_message = (\"ajsuydtbe\", \"\", \"wunjbfusnjrgut\", \"uhbhr\", \"oirun\", \"lpef\", \"\", \"vhejsibr\", \"ydtse\", \"qlvuusrntuos\", \"ijwlbutybhlsoaxh\")"
      ],
      "execution_count": 4,
      "outputs": []
    },
    {
      "cell_type": "code",
      "source": [
        "encrypted_message = (\"ajsuydtbe\", \"\", \"wunjbfusnjrgut\", \"uhbhr\", \"oirun\", \"lpef\", \"\", \"vhejsibr\", \"ydtse\", \"qlvuusrntuos\", \"ijwlbutybhlsoaxh\")\n",
        "for i in encrypted_message:\n",
        "  print(len(i))"
      ],
      "metadata": {
        "colab": {
          "base_uri": "https://localhost:8080/"
        },
        "id": "zGaPzpwaUiHo",
        "outputId": "b4d18787-134d-42b6-ba94-5b087a72ed65"
      },
      "execution_count": 5,
      "outputs": [
        {
          "output_type": "stream",
          "name": "stdout",
          "text": [
            "9\n",
            "0\n",
            "14\n",
            "5\n",
            "5\n",
            "4\n",
            "0\n",
            "8\n",
            "5\n",
            "12\n",
            "16\n"
          ]
        }
      ]
    },
    {
      "cell_type": "code",
      "metadata": {
        "id": "fxLQFN5QMH0I",
        "colab": {
          "base_uri": "https://localhost:8080/"
        },
        "outputId": "becd9e2b-5c72-4599-92c6-1df883e3f0b5"
      },
      "source": [
        "# Follow the steps from your solution to problem 1\n",
        "\n",
        "# Create an empty list\n",
        "\n",
        "\n",
        "# Append the length of strings of your tuple using a for loop\n",
        "encrypted_message = (\"ajsuydtbe\", \"\", \"wunjbfusnjrgut\", \"uhbhr\", \"oirun\", \"lpef\", \"\", \"vhejsibr\", \"ydtse\", \"qlvuusrntuos\", \"ijwlbutybhlsoaxh\")\n",
        "for i in encrypted_message:\n",
        "  print(len(i))\n",
        "\n",
        "# Print the list of string lengths\n"
      ],
      "execution_count": 6,
      "outputs": [
        {
          "output_type": "stream",
          "name": "stdout",
          "text": [
            "9\n",
            "0\n",
            "14\n",
            "5\n",
            "5\n",
            "4\n",
            "0\n",
            "8\n",
            "5\n",
            "12\n",
            "16\n"
          ]
        }
      ]
    },
    {
      "cell_type": "code",
      "metadata": {
        "id": "qpvaTUsUNiu9",
        "colab": {
          "base_uri": "https://localhost:8080/"
        },
        "outputId": "e18d5d2d-a8d8-44f4-f7e7-c28a0e07fd87"
      },
      "source": [
        "# Create a string to store the decrypyted message\n",
        "# Concatenate the characters using a for loop to get your final decoded message\n",
        "# Print the message you have decrypted\n",
        "\n",
        "# Encrypted message tuple\n",
        "encrypted_message = (\n",
        "    \"ajsuydtbe\", \"\", \"wunjbfusnjrgut\", \"uhbhr\", \"oirun\",\n",
        "    \"lpef\", \"\", \"vhejsibr\", \"ydtse\", \"qlvuusrntuos\", \"ijwlbutybhlsoaxh\"\n",
        ")\n",
        "\n",
        "# String to store the decrypted message\n",
        "decoded = \"\"\n",
        "\n",
        "# Loop through each element, convert length to corresponding character\n",
        "for item in encrypted_message:\n",
        "    n = len(item)\n",
        "    if n == 0:\n",
        "        decoded += \" \"\n",
        "    else:\n",
        "        decoded += chr(ord(\"A\") + n - 1)\n",
        "\n",
        "# Print the final decoded message\n",
        "print(decoded)\n"
      ],
      "execution_count": 7,
      "outputs": [
        {
          "output_type": "stream",
          "name": "stdout",
          "text": [
            "I NEED HELP\n"
          ]
        }
      ]
    },
    {
      "cell_type": "markdown",
      "metadata": {
        "id": "EaYw9Z03TlYa"
      },
      "source": [
        "### <u> Problem 3</u>\n",
        "\n",
        "#### Aliens receive the reply from the scientists. They decode the message and send an encrypted message again. Due to some aberrations because of an existing very massive star, one of the words of their message gets transformed into something gibberish/unreadable. They sent the following message:\n",
        "\n",
        "* <code> I saw a \\<**some gibberish**> please help me soon\n",
        "\n",
        "#### Scientists were baffled by the presence of such an indecipherable word in the message sent by Aliens. Suddenly they receive another signal from them which contains the gibberish word but this time the letters have been jumbled up. Scientists need to sort the letters of this word in alphabetical order within it to get the actual transmitted word\n",
        "\n",
        "#### The encoded list of the unknown word is:\n",
        "\n",
        "```\n",
        "jumbled_word = [\"hugdtck\", \"tsogbklesrawqcbjplu\", \"qkisrubskoaitbt\", \"nslaoetr\", \"oksinjioaendnjsdqwbh\"]\n",
        "```\n"
      ]
    },
    {
      "cell_type": "code",
      "metadata": {
        "id": "--89g4fAVP6i"
      },
      "source": [
        "# Store the list of jumbled word in a variable\n",
        "jumbled_word = [\"hugdtck\", \"tsogbklesrawqcbjplu\", \"qkisrubskoaitbt\", \"nslaoetr\", \"oksinjioaendnjsdqwbh\"]"
      ],
      "execution_count": null,
      "outputs": []
    },
    {
      "cell_type": "code",
      "metadata": {
        "id": "REhBM4O0WB6i",
        "colab": {
          "base_uri": "https://localhost:8080/"
        },
        "outputId": "4c562cbd-d7fa-4225-a0b9-e8ca2d807f37"
      },
      "source": [
        "# Create an empty list\n",
        "# Append the length of each string in the list using a for loop\n",
        "# Print the above list\n",
        "# Create another list to store the corresponding characters and add the characters using for loop\n",
        "# Print this list of jumbled characters\n",
        "\n",
        "jumbled_word = [\n",
        "    \"hugdtck\",\n",
        "    \"tsogbklesrawqcbjplu\",\n",
        "    \"qkisrubskoaitbt\",\n",
        "    \"nslaoetr\",\n",
        "    \"oksinjioaendnjsdqwbh\"\n",
        "]\n",
        "\n",
        "# 1) Make a list of the lengths of each string\n",
        "lengths = []                          # empty list\n",
        "for w in jumbled_word:\n",
        "    lengths.append(len(w))\n",
        "\n",
        "# 2) Print that list\n",
        "print(\"Lengths:\", lengths)            # → [7, 19, 15, 8, 20]\n",
        "\n",
        "# 3) Convert each length to a letter (A=1 … Z=26, 0=space)\n",
        "chars = []                            # empty list for characters\n",
        "for n in lengths:\n",
        "    chars.append(chr(ord(\"A\") + n - 1))\n",
        "\n",
        "# 4) Print the list of jumbled characters\n",
        "print(\"Characters:\", chars)           # → ['G', 'S', 'O', 'H', 'T']\n"
      ],
      "execution_count": 8,
      "outputs": [
        {
          "output_type": "stream",
          "name": "stdout",
          "text": [
            "Lengths: [7, 19, 15, 8, 20]\n",
            "Characters: ['G', 'S', 'O', 'H', 'T']\n"
          ]
        }
      ]
    },
    {
      "cell_type": "code",
      "metadata": {
        "id": "APZPcWabCmL-",
        "colab": {
          "base_uri": "https://localhost:8080/"
        },
        "outputId": "97737f12-6286-4846-fe41-3b7b22ef7d91"
      },
      "source": [
        "# Get the  sorted list\n",
        "# Print the sorted list\n",
        "# Get all the characters in one word. Use join() method on a null string and pass the sorted char list as the argument of this method. Use help(join) to know more about it.\n",
        "# Print the complete message\n",
        "\n",
        "# Given character list\n",
        "chars = ['G', 'S', 'O', 'H', 'T']\n",
        "\n",
        "# Step 1: Get the sorted list\n",
        "sorted_chars = sorted(chars)\n",
        "\n",
        "# Step 2: Print the sorted list\n",
        "print(\"Sorted characters:\", sorted_chars)\n",
        "\n",
        "# Step 3: Join all characters into one word\n",
        "message = ''.join(sorted_chars)\n",
        "\n",
        "# Step 4: Print the complete message\n",
        "print(\"Decrypted message:\", message)\n"
      ],
      "execution_count": 9,
      "outputs": [
        {
          "output_type": "stream",
          "name": "stdout",
          "text": [
            "Sorted characters: ['G', 'H', 'O', 'S', 'T']\n",
            "Decrypted message: GHOST\n"
          ]
        }
      ]
    },
    {
      "cell_type": "markdown",
      "metadata": {
        "id": "BhlJiGNfC8r-"
      },
      "source": [
        "## <u> Problem 4</u>\n",
        "\n",
        "### A perfect number is a positive integer that is equal to the sum of its proper divisors. The smallest perfect number is 6, which is the sum of 1, 2, and 3. Based on a given user input, you need to print whether than input is a perfect number or not. Check on sample inputs such as 28, 128, 200, 496"
      ]
    },
    {
      "cell_type": "code",
      "metadata": {
        "id": "lk1KMEkcE2Pt",
        "colab": {
          "base_uri": "https://localhost:8080/"
        },
        "outputId": "afd36a23-eefa-4313-b23b-754895a178e5"
      },
      "source": [
        "# Take the user input\n",
        "\n",
        "perfect_number_candidate = int(input())"
      ],
      "execution_count": null,
      "outputs": [
        {
          "name": "stdout",
          "output_type": "stream",
          "text": [
            "10\n"
          ]
        }
      ]
    },
    {
      "cell_type": "code",
      "metadata": {
        "id": "CP0cCudsI6U-",
        "colab": {
          "base_uri": "https://localhost:8080/"
        },
        "outputId": "70f9f236-d44b-4cb3-a690-bbe7fe9dd23a"
      },
      "source": [
        "# Take user input\n",
        "num = int(input(\"Enter a number: \"))\n",
        "\n",
        "# Calculate sum of proper divisors\n",
        "sum_of_divisors = 0\n",
        "for i in range(1, num):\n",
        "    if num % i == 0:\n",
        "        sum_of_divisors += i\n",
        "\n",
        "# Check for perfection\n",
        "if sum_of_divisors == num:\n",
        "    print(f\"{num} is a perfect number.\")\n",
        "else:\n",
        "    print(f\"{num} is not a perfect number.\")\n",
        "\n"
      ],
      "execution_count": 10,
      "outputs": [
        {
          "output_type": "stream",
          "name": "stdout",
          "text": [
            "Enter a number: 12\n",
            "12 is not a perfect number.\n"
          ]
        }
      ]
    },
    {
      "cell_type": "markdown",
      "metadata": {
        "id": "hsmBSIrtFvlr"
      },
      "source": [
        "## <u> Problem 5</u>\n",
        "\n",
        "### Consider a famous movie line by Liam Neeson. You need to print only those words from this famous line whose length is greater than 3. Also the output words should be unique.You need to take care of the special characters such as ,."
      ]
    },
    {
      "cell_type": "code",
      "metadata": {
        "id": "E9GOFXVOFcsJ",
        "colab": {
          "base_uri": "https://localhost:8080/"
        },
        "outputId": "7634f932-74ef-4b3c-f0c2-1f8a1d70bb18"
      },
      "source": [
        "# Liam Neeson's quote\n",
        "movie_quote = \"If you let my daughter go now, that'll be the end of it. I will not look for you, I will not pursue you. But if you don't, I will look for you, I will find you, and I will kill you.\"\n",
        "\n",
        "# Take care of the characters which are not to be considered. In this case they include words such as , .\n",
        "\n",
        "line = \"\"\"I don’t know who you are. I don’t know what you want. If you are looking for ransom, I can tell you I don’t have money. But what I do have are a very particular set of skills.\"\"\"\n",
        "\n",
        "# Remove punctuation (commas, periods)\n",
        "clean_line = line.replace(',', '').replace('.', '')\n",
        "\n",
        "# Split into words\n",
        "words = clean_line.split()\n",
        "\n",
        "# Use a set for uniqueness\n",
        "unique_long_words = set()\n",
        "\n",
        "# Add words with length > 3\n",
        "for word in words:\n",
        "    if len(word) > 3:\n",
        "        unique_long_words.add(word.lower())  # Lowercase for uniformity\n",
        "\n",
        "# Print the result\n",
        "print(\"Words with length > 3:\")\n",
        "for word in sorted(unique_long_words):\n",
        "    print(word)\n",
        "\n"
      ],
      "execution_count": 11,
      "outputs": [
        {
          "output_type": "stream",
          "name": "stdout",
          "text": [
            "Words with length > 3:\n",
            "don’t\n",
            "have\n",
            "know\n",
            "looking\n",
            "money\n",
            "particular\n",
            "ransom\n",
            "skills\n",
            "tell\n",
            "very\n",
            "want\n",
            "what\n"
          ]
        }
      ]
    },
    {
      "cell_type": "code",
      "metadata": {
        "id": "o2ROjZNXHYgW",
        "colab": {
          "base_uri": "https://localhost:8080/"
        },
        "outputId": "3f06e35c-f5d0-4734-d374-9662d1b087fc"
      },
      "source": [
        "# Convert your sentence to a list of words\n",
        "# Using a for loop, print the words whose length is greater than 3\n",
        "# Take only unique words\n",
        "\n",
        "sentence = \"\"\"I don’t know who you are. I don’t know what you want. If you are looking for ransom, I can tell you I don’t have money. But what I do have are a very particular set of skills.\"\"\"\n",
        "\n",
        "# Step 1: Clean punctuation and convert sentence into words\n",
        "sentence = sentence.replace(\",\", \"\").replace(\".\", \"\")\n",
        "words = sentence.split()\n",
        "\n",
        "# Step 2: Create an empty set to store unique words with length > 3\n",
        "unique_words = set()\n",
        "\n",
        "# Step 3: Loop through words and add to set if length > 3\n",
        "for word in words:\n",
        "    if len(word) > 3:\n",
        "        unique_words.add(word.lower())  # Lowercase to avoid duplicates like 'What' and 'what'\n",
        "\n",
        "# Step 4: Print the unique words\n",
        "print(\"Unique words with length > 3:\")\n",
        "for word in sorted(unique_words):\n",
        "    print(word)\n"
      ],
      "execution_count": 12,
      "outputs": [
        {
          "output_type": "stream",
          "name": "stdout",
          "text": [
            "Unique words with length > 3:\n",
            "don’t\n",
            "have\n",
            "know\n",
            "looking\n",
            "money\n",
            "particular\n",
            "ransom\n",
            "skills\n",
            "tell\n",
            "very\n",
            "want\n",
            "what\n"
          ]
        }
      ]
    },
    {
      "cell_type": "code",
      "metadata": {
        "id": "HdYktKBXHqj9"
      },
      "source": [],
      "execution_count": null,
      "outputs": []
    }
  ]
}